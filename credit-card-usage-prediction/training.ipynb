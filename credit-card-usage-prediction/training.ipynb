{
 "cells": [
  {
   "cell_type": "code",
   "execution_count": 1,
   "metadata": {},
   "outputs": [],
   "source": [
    "import pandas as pd\n",
    "import numpy as np\n",
    "from datetime import date"
   ]
  },
  {
   "cell_type": "code",
   "execution_count": 2,
   "metadata": {},
   "outputs": [],
   "source": [
    "import duckdb"
   ]
  },
  {
   "cell_type": "code",
   "execution_count": 3,
   "metadata": {},
   "outputs": [],
   "source": [
    "from sklearn.preprocessing import OneHotEncoder\n",
    "from sklearn.ensemble import RandomForestRegressor\n",
    "from sklearn.metrics import mean_absolute_error"
   ]
  },
  {
   "cell_type": "code",
   "execution_count": 4,
   "metadata": {},
   "outputs": [],
   "source": [
    "from joblib import dump"
   ]
  },
  {
   "cell_type": "markdown",
   "metadata": {},
   "source": [
    "# 1. Load data"
   ]
  },
  {
   "cell_type": "code",
   "execution_count": 5,
   "metadata": {},
   "outputs": [],
   "source": [
    "df_info = pd.read_csv('cc_info.csv')\n",
    "df_txn = pd.read_csv('transactions.csv')"
   ]
  },
  {
   "cell_type": "markdown",
   "metadata": {},
   "source": [
    "# 2. Check data quality"
   ]
  },
  {
   "cell_type": "code",
   "execution_count": 6,
   "metadata": {},
   "outputs": [
    {
     "name": "stdout",
     "output_type": "stream",
     "text": [
      "<class 'pandas.core.frame.DataFrame'>\n",
      "RangeIndex: 984 entries, 0 to 983\n",
      "Data columns (total 5 columns):\n",
      " #   Column             Non-Null Count  Dtype \n",
      "---  ------             --------------  ----- \n",
      " 0   credit_card        984 non-null    int64 \n",
      " 1   city               984 non-null    object\n",
      " 2   state              984 non-null    object\n",
      " 3   zipcode            984 non-null    int64 \n",
      " 4   credit_card_limit  984 non-null    int64 \n",
      "dtypes: int64(3), object(2)\n",
      "memory usage: 38.6+ KB\n"
     ]
    }
   ],
   "source": [
    "df_info.info()"
   ]
  },
  {
   "cell_type": "code",
   "execution_count": 7,
   "metadata": {},
   "outputs": [
    {
     "name": "stdout",
     "output_type": "stream",
     "text": [
      "<class 'pandas.core.frame.DataFrame'>\n",
      "RangeIndex: 294588 entries, 0 to 294587\n",
      "Data columns (total 5 columns):\n",
      " #   Column                     Non-Null Count   Dtype  \n",
      "---  ------                     --------------   -----  \n",
      " 0   credit_card                294588 non-null  int64  \n",
      " 1   date                       294588 non-null  object \n",
      " 2   transaction_dollar_amount  294588 non-null  float64\n",
      " 3   Long                       294588 non-null  float64\n",
      " 4   Lat                        294588 non-null  float64\n",
      "dtypes: float64(3), int64(1), object(1)\n",
      "memory usage: 11.2+ MB\n"
     ]
    }
   ],
   "source": [
    "df_txn.info()"
   ]
  },
  {
   "cell_type": "code",
   "execution_count": 8,
   "metadata": {},
   "outputs": [],
   "source": [
    "df_txn['date'] = pd.to_datetime(df_txn['date'])"
   ]
  },
  {
   "cell_type": "markdown",
   "metadata": {},
   "source": [
    "# 3. Exploratory data analysis (EDA)"
   ]
  },
  {
   "cell_type": "markdown",
   "metadata": {},
   "source": [
    "df_info"
   ]
  },
  {
   "cell_type": "code",
   "execution_count": 9,
   "metadata": {},
   "outputs": [
    {
     "data": {
      "text/plain": [
       "┌──────────────────┬──────────┬─────────┬─────────┬───────────────────┐\n",
       "│   credit_card    │   city   │  state  │ zipcode │ credit_card_limit │\n",
       "│      int64       │ varchar  │ varchar │  int64  │       int64       │\n",
       "├──────────────────┼──────────┼─────────┼─────────┼───────────────────┤\n",
       "│ 1280981422329509 │ Dallas   │ PA      │   18612 │              6000 │\n",
       "│ 9737219864179988 │ Houston  │ PA      │   15342 │             16000 │\n",
       "│ 4749889059323202 │ Auburn   │ MA      │    1501 │             14000 │\n",
       "│ 9591503562024072 │ Orlando  │ WV      │   26412 │             18000 │\n",
       "│ 2095640259001271 │ New York │ NY      │   10001 │             20000 │\n",
       "└──────────────────┴──────────┴─────────┴─────────┴───────────────────┘"
      ]
     },
     "execution_count": 9,
     "metadata": {},
     "output_type": "execute_result"
    }
   ],
   "source": [
    "duckdb.query(\"\"\"\n",
    "select *\n",
    "from df_info\n",
    "limit 5\n",
    "\"\"\")"
   ]
  },
  {
   "cell_type": "code",
   "execution_count": 10,
   "metadata": {},
   "outputs": [
    {
     "data": {
      "text/plain": [
       "┌──────────────┬─────────────────────────────┐\n",
       "│ count_star() │ count(DISTINCT credit_card) │\n",
       "│    int64     │            int64            │\n",
       "├──────────────┼─────────────────────────────┤\n",
       "│          984 │                         984 │\n",
       "└──────────────┴─────────────────────────────┘"
      ]
     },
     "execution_count": 10,
     "metadata": {},
     "output_type": "execute_result"
    }
   ],
   "source": [
    "duckdb.query(\"\"\"\n",
    "select count(*), count(distinct credit_card)\n",
    "from df_info\n",
    "\"\"\")"
   ]
  },
  {
   "cell_type": "code",
   "execution_count": 11,
   "metadata": {},
   "outputs": [
    {
     "data": {
      "text/plain": [
       "┌─────────┬─────────┬──────────┬────────────┬────────────────────┐\n",
       "│ no_cust │ no_city │ no_state │ no_zipcode │     avg_cc_ilm     │\n",
       "│  int64  │  int64  │  int64   │   int64    │       double       │\n",
       "├─────────┼─────────┼──────────┼────────────┼────────────────────┤\n",
       "│     984 │     124 │       35 │        124 │ 12321.138211382115 │\n",
       "└─────────┴─────────┴──────────┴────────────┴────────────────────┘"
      ]
     },
     "execution_count": 11,
     "metadata": {},
     "output_type": "execute_result"
    }
   ],
   "source": [
    "duckdb.query(\"\"\"\n",
    "select count(distinct credit_card) no_cust\n",
    ", count(distinct city) no_city\n",
    ", count(distinct state) no_state\n",
    ", count(distinct zipcode) no_zipcode\n",
    ", avg(credit_card_limit) avg_cc_ilm\n",
    "from df_info\n",
    "\"\"\")"
   ]
  },
  {
   "cell_type": "code",
   "execution_count": 12,
   "metadata": {},
   "outputs": [
    {
     "data": {
      "text/plain": [
       "┌────────────┬─────────┬────────────┐\n",
       "│    city    │ no_cust │ avg_cc_lim │\n",
       "│  varchar   │  int64  │   double   │\n",
       "├────────────┼─────────┼────────────┤\n",
       "│ Monticello │       1 │    42000.0 │\n",
       "│ Fort Wayne │       1 │    30000.0 │\n",
       "│ Tampa      │       2 │    30000.0 │\n",
       "│ Cleveland  │       2 │    25000.0 │\n",
       "│ Knoxville  │       1 │    25000.0 │\n",
       "│ Amarillo   │       1 │    24000.0 │\n",
       "│ Raleigh    │       2 │    22500.0 │\n",
       "│ Oakland    │       2 │    22500.0 │\n",
       "│ Garfield   │       1 │    21000.0 │\n",
       "│ Denver     │       4 │    20000.0 │\n",
       "├────────────┴─────────┴────────────┤\n",
       "│ 10 rows                 3 columns │\n",
       "└───────────────────────────────────┘"
      ]
     },
     "execution_count": 12,
     "metadata": {},
     "output_type": "execute_result"
    }
   ],
   "source": [
    "duckdb.query(\"\"\"\n",
    "select city\n",
    ", count(*) no_cust\n",
    ", avg(credit_card_limit) avg_cc_lim\n",
    "from df_info\n",
    "group by city\n",
    "order by avg(credit_card_limit) desc\n",
    "limit 10\n",
    "\"\"\")"
   ]
  },
  {
   "cell_type": "code",
   "execution_count": 13,
   "metadata": {},
   "outputs": [
    {
     "data": {
      "text/plain": [
       "┌─────────┬─────────┬────────────┐\n",
       "│ zipcode │ no_cust │ avg_cc_lim │\n",
       "│  int64  │  int64  │   double   │\n",
       "├─────────┼─────────┼────────────┤\n",
       "│    4760 │       1 │    42000.0 │\n",
       "│   33601 │       2 │    30000.0 │\n",
       "│   46801 │       1 │    30000.0 │\n",
       "│   13042 │       2 │    25000.0 │\n",
       "│   16928 │       1 │    25000.0 │\n",
       "│   79101 │       1 │    24000.0 │\n",
       "│   25911 │       2 │    22500.0 │\n",
       "│    2858 │       2 │    22500.0 │\n",
       "│    7026 │       1 │    21000.0 │\n",
       "│   12421 │       4 │    20000.0 │\n",
       "├─────────┴─────────┴────────────┤\n",
       "│ 10 rows              3 columns │\n",
       "└────────────────────────────────┘"
      ]
     },
     "execution_count": 13,
     "metadata": {},
     "output_type": "execute_result"
    }
   ],
   "source": [
    "duckdb.query(\"\"\"\n",
    "select zipcode\n",
    ", count(*) no_cust\n",
    ", avg(credit_card_limit) avg_cc_lim\n",
    "from df_info\n",
    "group by zipcode\n",
    "order by avg(credit_card_limit) desc\n",
    "limit 10\n",
    "\"\"\")"
   ]
  },
  {
   "cell_type": "code",
   "execution_count": 14,
   "metadata": {},
   "outputs": [
    {
     "data": {
      "text/plain": [
       "┌─────────┬─────────┬────────────────────┐\n",
       "│  state  │ no_cust │     avg_cc_lim     │\n",
       "│ varchar │  int64  │       double       │\n",
       "├─────────┼─────────┼────────────────────┤\n",
       "│ FL      │       4 │            20500.0 │\n",
       "│ AZ      │       1 │            20000.0 │\n",
       "│ IN      │       9 │            17000.0 │\n",
       "│ IA      │       4 │            16000.0 │\n",
       "│ RI      │       5 │            15400.0 │\n",
       "│ PR      │       8 │            15125.0 │\n",
       "│ WV      │      23 │ 14695.652173913044 │\n",
       "│ GA      │      12 │ 14666.666666666666 │\n",
       "│ AL      │       3 │ 14333.333333333334 │\n",
       "│ OH      │      11 │            14000.0 │\n",
       "├─────────┴─────────┴────────────────────┤\n",
       "│ 10 rows                      3 columns │\n",
       "└────────────────────────────────────────┘"
      ]
     },
     "execution_count": 14,
     "metadata": {},
     "output_type": "execute_result"
    }
   ],
   "source": [
    "duckdb.query(\"\"\"\n",
    "select state\n",
    ", count(*) no_cust\n",
    ", avg(credit_card_limit) avg_cc_lim\n",
    "from df_info\n",
    "group by state\n",
    "order by avg(credit_card_limit) desc\n",
    "limit 10\n",
    "\"\"\")"
   ]
  },
  {
   "cell_type": "markdown",
   "metadata": {},
   "source": [
    "df_txn"
   ]
  },
  {
   "cell_type": "code",
   "execution_count": 15,
   "metadata": {},
   "outputs": [
    {
     "data": {
      "text/plain": [
       "┌──────────────────┬─────────────────────┬───────────────────────────┬───────────────────┬──────────────────┐\n",
       "│   credit_card    │        date         │ transaction_dollar_amount │       Long        │       Lat        │\n",
       "│      int64       │    timestamp_ns     │          double           │      double       │      double      │\n",
       "├──────────────────┼─────────────────────┼───────────────────────────┼───────────────────┼──────────────────┤\n",
       "│ 1003715054175576 │ 2015-09-11 00:32:40 │                     43.78 │ -80.1741323292432 │ 40.2673703430082 │\n",
       "│ 1003715054175576 │ 2015-10-24 22:23:08 │                    103.15 │ -80.1942395924575 │ 40.1801138227341 │\n",
       "│ 1003715054175576 │ 2015-10-26 18:19:36 │                     48.55 │ -80.2110325106832 │  40.313004401402 │\n",
       "│ 1003715054175576 │ 2015-10-22 19:41:10 │                    136.18 │ -80.1741379707697 │ 40.2908953862502 │\n",
       "│ 1003715054175576 │ 2015-10-26 20:08:22 │                     71.82 │ -80.2387197193347 │ 40.1667191961412 │\n",
       "└──────────────────┴─────────────────────┴───────────────────────────┴───────────────────┴──────────────────┘"
      ]
     },
     "execution_count": 15,
     "metadata": {},
     "output_type": "execute_result"
    }
   ],
   "source": [
    "duckdb.query(\"\"\"\n",
    "select *\n",
    "from df_txn\n",
    "limit 5\n",
    "\"\"\")"
   ]
  },
  {
   "cell_type": "code",
   "execution_count": 16,
   "metadata": {},
   "outputs": [
    {
     "data": {
      "text/plain": [
       "┌─────────┬───────────────────┬────────────────────┬───────────────────┐\n",
       "│ no_cust │    avg_txn_amt    │      avg_long      │      avg_lat      │\n",
       "│  int64  │      double       │       double       │      double       │\n",
       "├─────────┼───────────────────┼────────────────────┼───────────────────┤\n",
       "│     984 │ 86.00803617255285 │ -76.23523815998024 │ 40.93766857401737 │\n",
       "└─────────┴───────────────────┴────────────────────┴───────────────────┘"
      ]
     },
     "execution_count": 16,
     "metadata": {},
     "output_type": "execute_result"
    }
   ],
   "source": [
    "duckdb.query(\"\"\"\n",
    "select count(distinct credit_card) no_cust\n",
    ", avg(transaction_dollar_amount) avg_txn_amt\n",
    ", avg(Long) avg_long\n",
    ", avg(Lat) avg_lat\n",
    "from df_txn\n",
    "limit 5\n",
    "\"\"\")"
   ]
  },
  {
   "cell_type": "code",
   "execution_count": 17,
   "metadata": {},
   "outputs": [
    {
     "data": {
      "text/plain": [
       "┌────────────────────────┐\n",
       "│          date          │\n",
       "│      timestamp_ns      │\n",
       "├────────────────────────┤\n",
       "│ 2015-07-31 09:39:48    │\n",
       "│ 2015-07-31 11:03:48    │\n",
       "│ 2015-07-31 11:10:14    │\n",
       "│ 2015-07-31 11:28:55    │\n",
       "│ 2015-07-31 11:38:51    │\n",
       "│ 2015-07-31 11:53:15    │\n",
       "│ 2015-07-31 11:59:10    │\n",
       "│ 2015-07-31 12:00:50    │\n",
       "│ 2015-07-31 12:01:41    │\n",
       "│ 2015-07-31 12:02:59    │\n",
       "│          ·             │\n",
       "│          ·             │\n",
       "│          ·             │\n",
       "│ 2015-08-02 22:53:58    │\n",
       "│ 2015-08-02 22:54:17    │\n",
       "│ 2015-08-02 22:54:32    │\n",
       "│ 2015-08-02 22:54:56    │\n",
       "│ 2015-08-02 22:54:59    │\n",
       "│ 2015-08-02 22:55:01    │\n",
       "│ 2015-08-02 22:55:07    │\n",
       "│ 2015-08-02 22:55:09    │\n",
       "│ 2015-08-02 22:55:18    │\n",
       "│ 2015-08-02 22:55:24    │\n",
       "├────────────────────────┤\n",
       "│         ? rows         │\n",
       "│ (>9999 rows, 20 shown) │\n",
       "└────────────────────────┘"
      ]
     },
     "execution_count": 17,
     "metadata": {},
     "output_type": "execute_result"
    }
   ],
   "source": [
    "duckdb.query(\"\"\"\n",
    "select distinct date\n",
    "from df_txn\n",
    "order by date\n",
    "\"\"\")"
   ]
  },
  {
   "cell_type": "markdown",
   "metadata": {},
   "source": [
    "# 4. Feature engineering"
   ]
  },
  {
   "cell_type": "markdown",
   "metadata": {},
   "source": [
    "create function"
   ]
  },
  {
   "cell_type": "code",
   "execution_count": 18,
   "metadata": {},
   "outputs": [],
   "source": [
    "# ytd is day -1\n",
    "# td is day 0\n",
    "# tmr is day 1"
   ]
  },
  {
   "cell_type": "code",
   "execution_count": 19,
   "metadata": {},
   "outputs": [],
   "source": [
    "def gen_label(feat_dt, txn):\n",
    "  txn['tmp_date'] = feat_dt\n",
    "  txn['tmp_date'] = pd.to_datetime(txn['tmp_date'])\n",
    "  txn['day_diff'] = (txn['date']-txn['tmp_date']).dt.days\n",
    "  label = txn[txn['day_diff'].between(1, 7)].groupby('credit_card').agg(sum_amt_label=('transaction_dollar_amount', 'sum')).reset_index()\n",
    "  label['sum_amt_label'] = label['sum_amt_label'].fillna(0)\n",
    "  label['feat_dt'] = feat_dt\n",
    "  return label"
   ]
  },
  {
   "cell_type": "code",
   "execution_count": 20,
   "metadata": {},
   "outputs": [],
   "source": [
    "# tmr is day -1\n",
    "# td is day 0\n",
    "# ytd is day 1"
   ]
  },
  {
   "cell_type": "code",
   "execution_count": 21,
   "metadata": {},
   "outputs": [],
   "source": [
    "def gen_feat_sum_amount(feat_dt, txn):\n",
    "    txn['tmp_date'] = feat_dt\n",
    "    txn['tmp_date'] = pd.to_datetime(txn['tmp_date'])\n",
    "    txn['day_diff'] = (txn['tmp_date'] - txn['date']).dt.days\n",
    "\n",
    "    feat_1 = txn[txn['day_diff'].between(0, 7)].groupby('credit_card').agg(\n",
    "        sum_amt_l1w=('transaction_dollar_amount', 'sum'),\n",
    "        mean_amt_l1w=('transaction_dollar_amount', 'mean'),\n",
    "        min_amt_l1w=('transaction_dollar_amount', 'min'),\n",
    "        max_amt_l1w=('transaction_dollar_amount', 'max')\n",
    "    ).reset_index()\n",
    "    \n",
    "    feat_2 = txn[txn['day_diff'].between(0, 14)].groupby('credit_card').agg(\n",
    "        sum_amt_l2w=('transaction_dollar_amount', 'sum'),\n",
    "        mean_amt_l2w=('transaction_dollar_amount', 'mean'),\n",
    "        min_amt_l2w=('transaction_dollar_amount', 'min'),\n",
    "        max_amt_l2w=('transaction_dollar_amount', 'max')\n",
    "    ).reset_index()\n",
    "    \n",
    "    feat_3 = txn[txn['day_diff'].between(0, 28)].groupby('credit_card').agg(\n",
    "        sum_amt_l4w=('transaction_dollar_amount', 'sum'),\n",
    "        mean_amt_l4w=('transaction_dollar_amount', 'mean'),\n",
    "        min_amt_l4w=('transaction_dollar_amount', 'min'),\n",
    "        max_amt_l4w=('transaction_dollar_amount', 'max')\n",
    "    ).reset_index()\n",
    "\n",
    "    feat_sum_amt = (\n",
    "        feat_1.merge(feat_2, on='credit_card', how='outer')\n",
    "              .merge(feat_3, on='credit_card', how='outer')\n",
    "    )\n",
    "    feat_sum_amt['feat_dt'] = feat_dt\n",
    "    feat_sum_amt = feat_sum_amt.fillna(0)\n",
    "    \n",
    "    return feat_sum_amt"
   ]
  },
  {
   "cell_type": "code",
   "execution_count": 22,
   "metadata": {},
   "outputs": [],
   "source": [
    "def gen_feat_count_txn(feat_dt, txn):\n",
    "  txn['tmp_date'] = feat_dt\n",
    "  txn['tmp_date'] = pd.to_datetime(txn['tmp_date'])\n",
    "  txn['day_diff'] = (txn['tmp_date']-txn['date']).dt.days\n",
    "\n",
    "  feat_1 = txn[txn['day_diff'].between(0, 7)].groupby('credit_card').agg(count_txn_l1w=('transaction_dollar_amount', 'count')).reset_index()\n",
    "  feat_2 = txn[txn['day_diff'].between(0, 14)].groupby('credit_card').agg(count_txn_l2w=('transaction_dollar_amount', 'count')).reset_index()\n",
    "  feat_3 = txn[txn['day_diff'].between(0, 28)].groupby('credit_card').agg(count_txn_l4w=('transaction_dollar_amount', 'count')).reset_index()\n",
    "\n",
    "  feat_count_txn = feat_1.merge(feat_2, on='credit_card', how='outer').merge(feat_3, on='credit_card', how='outer')\n",
    "  feat_count_txn['feat_dt'] = feat_dt\n",
    "  feat_count_txn = feat_count_txn.fillna(0)\n",
    "  return feat_count_txn"
   ]
  },
  {
   "cell_type": "code",
   "execution_count": 23,
   "metadata": {},
   "outputs": [],
   "source": [
    "def gen_feat_usage(feat_dt, txn, card_info):\n",
    "  txn['tmp_date'] = feat_dt\n",
    "  txn['tmp_date'] = pd.to_datetime(txn['tmp_date'])\n",
    "  txn['day_diff'] = (txn['tmp_date']-txn['date']).dt.days\n",
    "\n",
    "  feat_1 = txn[txn['day_diff'].between(0, 28)].groupby('credit_card').agg(sum_amt_l1m=('transaction_dollar_amount', 'sum')).reset_index()\n",
    "  feat_sum_amt = feat_1.fillna(0)\n",
    "  feat_sum_amt['feat_dt'] = feat_dt\n",
    "\n",
    "  feat_pct_usage = feat_sum_amt.merge(card_info[['credit_card', 'credit_card_limit']], on='credit_card')\n",
    "  feat_pct_usage['pct_usage'] = feat_pct_usage['sum_amt_l1m'] * 100 / feat_pct_usage['credit_card_limit']\n",
    "  feat_pct_usage = feat_pct_usage.drop(columns=['credit_card_limit'])\n",
    "\n",
    "  return feat_pct_usage"
   ]
  },
  {
   "cell_type": "code",
   "execution_count": 24,
   "metadata": {},
   "outputs": [],
   "source": [
    "def gen_feat_average_latlong(feat_dt, txn):\n",
    "    txn['tmp_date'] = feat_dt\n",
    "    txn['tmp_date'] = pd.to_datetime(txn['tmp_date'])\n",
    "    txn['day_diff'] = (txn['tmp_date'] - txn['date']).dt.days\n",
    "\n",
    "    filtered_txn = txn[txn['day_diff'].between(0, 999999)]\n",
    "\n",
    "    feat_avg_latlong = filtered_txn.groupby('credit_card').agg(\n",
    "        avg_long=('Long', 'mean'),\n",
    "        avg_lat=('Lat', 'mean')\n",
    "    ).reset_index()\n",
    "\n",
    "    feat_avg_latlong = feat_avg_latlong.fillna(0)\n",
    "\n",
    "    feat_avg_latlong['feat_dt'] = feat_dt\n",
    "\n",
    "    return feat_avg_latlong"
   ]
  },
  {
   "cell_type": "code",
   "execution_count": 25,
   "metadata": {},
   "outputs": [],
   "source": [
    "def gen_feat_location(info):\n",
    "  info_sorted = info.sort_values(by='zipcode', ascending=True)\n",
    "  info_sorted_unique = info_sorted.drop_duplicates(keep='first')\n",
    "  info_sorted_unique = info_sorted_unique[['credit_card','city','state']]\n",
    "\n",
    "  return info_sorted_unique"
   ]
  },
  {
   "cell_type": "code",
   "execution_count": 26,
   "metadata": {},
   "outputs": [],
   "source": [
    "# combine"
   ]
  },
  {
   "cell_type": "code",
   "execution_count": 27,
   "metadata": {},
   "outputs": [],
   "source": [
    "def gen_feat_label(feat_dt, info, txn):\n",
    "\n",
    "  txn['date'] = pd.to_datetime(txn['date'])\n",
    "\n",
    "  f1 = gen_feat_sum_amount(feat_dt, txn)\n",
    "  f2 = gen_feat_count_txn(feat_dt, txn)\n",
    "  f3 = gen_feat_usage(feat_dt, txn, info)\n",
    "  f4 = gen_feat_average_latlong(feat_dt, txn)\n",
    "  f5 = gen_feat_location(info)\n",
    "\n",
    "  all_feat = f1.merge(\n",
    "      f2, on=['credit_card', 'feat_dt'], how='outer'\n",
    "  ).merge(\n",
    "      f3, on=['credit_card', 'feat_dt'], how='outer'\n",
    "  ).merge(\n",
    "      f4, on=['credit_card', 'feat_dt'], how='outer'\n",
    "  ) .merge(\n",
    "      f5, on=['credit_card'], how='outer'\n",
    "  )\n",
    "\n",
    "  label = gen_label(feat_dt, txn)\n",
    "  all_feat = all_feat.merge(label, on=['credit_card', 'feat_dt'], how='outer')\n",
    "\n",
    "  return all_feat[[\n",
    "      'credit_card', 'feat_dt',\n",
    "      'sum_amt_l1w', 'mean_amt_l1w', 'min_amt_l1w', 'max_amt_l1w',\n",
    "      'sum_amt_l2w', 'mean_amt_l2w', 'min_amt_l2w', 'max_amt_l2w',\n",
    "      'sum_amt_l4w', 'mean_amt_l4w', 'min_amt_l4w', 'max_amt_l4w',\n",
    "      'count_txn_l1w', 'count_txn_l2w', 'count_txn_l4w',\n",
    "      'pct_usage',\n",
    "      'avg_long', 'avg_lat','sum_amt_label',\n",
    "      'city','state']]"
   ]
  },
  {
   "cell_type": "markdown",
   "metadata": {},
   "source": [
    "gen function"
   ]
  },
  {
   "cell_type": "code",
   "execution_count": 28,
   "metadata": {},
   "outputs": [],
   "source": [
    "x1 = gen_feat_label(feat_dt=date(2015, 8, 31), info=df_info, txn=df_txn)\n",
    "x2 = gen_feat_label(feat_dt=date(2015, 9, 7), info=df_info, txn=df_txn)\n",
    "x3 = gen_feat_label(feat_dt=date(2015, 9, 14), info=df_info, txn=df_txn)\n",
    "x4 = gen_feat_label(feat_dt=date(2015, 9, 21), info=df_info, txn=df_txn)\n",
    "x5 = gen_feat_label(feat_dt=date(2015, 9, 28), info=df_info, txn=df_txn)\n",
    "x6 = gen_feat_label(feat_dt=date(2015, 10, 7), info=df_info, txn=df_txn)\n",
    "x7 = gen_feat_label(feat_dt=date(2015, 10, 14), info=df_info, txn=df_txn)\n",
    "x8 = gen_feat_label(feat_dt=date(2015, 10, 21), info=df_info, txn=df_txn)\n",
    "x9 = gen_feat_label(feat_dt=date(2015, 10, 28), info=df_info, txn=df_txn)"
   ]
  },
  {
   "cell_type": "code",
   "execution_count": 29,
   "metadata": {},
   "outputs": [],
   "source": [
    "df_final = pd.concat([x1, x2, x3, x4, x5, x6, x7, x8, x9])"
   ]
  },
  {
   "cell_type": "markdown",
   "metadata": {},
   "source": [
    "clean data"
   ]
  },
  {
   "cell_type": "code",
   "execution_count": 30,
   "metadata": {},
   "outputs": [],
   "source": [
    "df_final = duckdb.query(\"\"\"\n",
    "select *\n",
    "from df_final\n",
    "where credit_card is not null\n",
    "and feat_dt is not null and city is not null and state is not null\n",
    "\"\"\").to_df()"
   ]
  },
  {
   "cell_type": "code",
   "execution_count": 31,
   "metadata": {},
   "outputs": [],
   "source": [
    "df_final.fillna(0, inplace = True)"
   ]
  },
  {
   "cell_type": "code",
   "execution_count": 32,
   "metadata": {},
   "outputs": [
    {
     "data": {
      "text/html": [
       "<div>\n",
       "<style scoped>\n",
       "    .dataframe tbody tr th:only-of-type {\n",
       "        vertical-align: middle;\n",
       "    }\n",
       "\n",
       "    .dataframe tbody tr th {\n",
       "        vertical-align: top;\n",
       "    }\n",
       "\n",
       "    .dataframe thead th {\n",
       "        text-align: right;\n",
       "    }\n",
       "</style>\n",
       "<table border=\"1\" class=\"dataframe\">\n",
       "  <thead>\n",
       "    <tr style=\"text-align: right;\">\n",
       "      <th></th>\n",
       "      <th>credit_card</th>\n",
       "      <th>feat_dt</th>\n",
       "      <th>sum_amt_l1w</th>\n",
       "      <th>mean_amt_l1w</th>\n",
       "      <th>min_amt_l1w</th>\n",
       "      <th>max_amt_l1w</th>\n",
       "      <th>sum_amt_l2w</th>\n",
       "      <th>mean_amt_l2w</th>\n",
       "      <th>min_amt_l2w</th>\n",
       "      <th>max_amt_l2w</th>\n",
       "      <th>...</th>\n",
       "      <th>max_amt_l4w</th>\n",
       "      <th>count_txn_l1w</th>\n",
       "      <th>count_txn_l2w</th>\n",
       "      <th>count_txn_l4w</th>\n",
       "      <th>pct_usage</th>\n",
       "      <th>avg_long</th>\n",
       "      <th>avg_lat</th>\n",
       "      <th>sum_amt_label</th>\n",
       "      <th>city</th>\n",
       "      <th>state</th>\n",
       "    </tr>\n",
       "  </thead>\n",
       "  <tbody>\n",
       "    <tr>\n",
       "      <th>0</th>\n",
       "      <td>1003715054175576</td>\n",
       "      <td>2015-08-31</td>\n",
       "      <td>2848.51</td>\n",
       "      <td>123.848261</td>\n",
       "      <td>13.43</td>\n",
       "      <td>859.31</td>\n",
       "      <td>4280.81</td>\n",
       "      <td>112.652895</td>\n",
       "      <td>13.43</td>\n",
       "      <td>859.31</td>\n",
       "      <td>...</td>\n",
       "      <td>859.31</td>\n",
       "      <td>23.0</td>\n",
       "      <td>38.0</td>\n",
       "      <td>80.0</td>\n",
       "      <td>39.397100</td>\n",
       "      <td>-80.216954</td>\n",
       "      <td>40.240437</td>\n",
       "      <td>3116.94</td>\n",
       "      <td>Houston</td>\n",
       "      <td>PA</td>\n",
       "    </tr>\n",
       "    <tr>\n",
       "      <th>1</th>\n",
       "      <td>1013870087888817</td>\n",
       "      <td>2015-08-31</td>\n",
       "      <td>3062.95</td>\n",
       "      <td>109.391071</td>\n",
       "      <td>0.70</td>\n",
       "      <td>205.01</td>\n",
       "      <td>6577.99</td>\n",
       "      <td>119.599818</td>\n",
       "      <td>0.70</td>\n",
       "      <td>972.63</td>\n",
       "      <td>...</td>\n",
       "      <td>972.63</td>\n",
       "      <td>28.0</td>\n",
       "      <td>55.0</td>\n",
       "      <td>107.0</td>\n",
       "      <td>74.525800</td>\n",
       "      <td>-68.910456</td>\n",
       "      <td>42.747861</td>\n",
       "      <td>4113.85</td>\n",
       "      <td>Washington</td>\n",
       "      <td>NH</td>\n",
       "    </tr>\n",
       "    <tr>\n",
       "      <th>2</th>\n",
       "      <td>1023820165155391</td>\n",
       "      <td>2015-08-31</td>\n",
       "      <td>5810.16</td>\n",
       "      <td>116.203200</td>\n",
       "      <td>0.46</td>\n",
       "      <td>939.07</td>\n",
       "      <td>12283.20</td>\n",
       "      <td>127.950000</td>\n",
       "      <td>0.46</td>\n",
       "      <td>977.59</td>\n",
       "      <td>...</td>\n",
       "      <td>977.59</td>\n",
       "      <td>50.0</td>\n",
       "      <td>96.0</td>\n",
       "      <td>186.0</td>\n",
       "      <td>78.105179</td>\n",
       "      <td>-72.175743</td>\n",
       "      <td>43.942523</td>\n",
       "      <td>4917.81</td>\n",
       "      <td>Charlotte</td>\n",
       "      <td>VT</td>\n",
       "    </tr>\n",
       "    <tr>\n",
       "      <th>3</th>\n",
       "      <td>1073931538936472</td>\n",
       "      <td>2015-08-31</td>\n",
       "      <td>566.18</td>\n",
       "      <td>113.236000</td>\n",
       "      <td>76.77</td>\n",
       "      <td>140.36</td>\n",
       "      <td>1014.47</td>\n",
       "      <td>126.808750</td>\n",
       "      <td>76.77</td>\n",
       "      <td>198.65</td>\n",
       "      <td>...</td>\n",
       "      <td>235.51</td>\n",
       "      <td>5.0</td>\n",
       "      <td>8.0</td>\n",
       "      <td>21.0</td>\n",
       "      <td>29.087200</td>\n",
       "      <td>-71.722386</td>\n",
       "      <td>41.607113</td>\n",
       "      <td>355.85</td>\n",
       "      <td>Dallas</td>\n",
       "      <td>PA</td>\n",
       "    </tr>\n",
       "    <tr>\n",
       "      <th>4</th>\n",
       "      <td>1077622576192810</td>\n",
       "      <td>2015-08-31</td>\n",
       "      <td>122.93</td>\n",
       "      <td>122.930000</td>\n",
       "      <td>122.93</td>\n",
       "      <td>122.93</td>\n",
       "      <td>278.07</td>\n",
       "      <td>139.035000</td>\n",
       "      <td>122.93</td>\n",
       "      <td>155.14</td>\n",
       "      <td>...</td>\n",
       "      <td>160.11</td>\n",
       "      <td>1.0</td>\n",
       "      <td>2.0</td>\n",
       "      <td>5.0</td>\n",
       "      <td>6.346100</td>\n",
       "      <td>-80.214683</td>\n",
       "      <td>40.260375</td>\n",
       "      <td>0.00</td>\n",
       "      <td>Houston</td>\n",
       "      <td>PA</td>\n",
       "    </tr>\n",
       "  </tbody>\n",
       "</table>\n",
       "<p>5 rows × 23 columns</p>\n",
       "</div>"
      ],
      "text/plain": [
       "        credit_card    feat_dt  sum_amt_l1w  mean_amt_l1w  min_amt_l1w  \\\n",
       "0  1003715054175576 2015-08-31      2848.51    123.848261        13.43   \n",
       "1  1013870087888817 2015-08-31      3062.95    109.391071         0.70   \n",
       "2  1023820165155391 2015-08-31      5810.16    116.203200         0.46   \n",
       "3  1073931538936472 2015-08-31       566.18    113.236000        76.77   \n",
       "4  1077622576192810 2015-08-31       122.93    122.930000       122.93   \n",
       "\n",
       "   max_amt_l1w  sum_amt_l2w  mean_amt_l2w  min_amt_l2w  max_amt_l2w  ...  \\\n",
       "0       859.31      4280.81    112.652895        13.43       859.31  ...   \n",
       "1       205.01      6577.99    119.599818         0.70       972.63  ...   \n",
       "2       939.07     12283.20    127.950000         0.46       977.59  ...   \n",
       "3       140.36      1014.47    126.808750        76.77       198.65  ...   \n",
       "4       122.93       278.07    139.035000       122.93       155.14  ...   \n",
       "\n",
       "   max_amt_l4w  count_txn_l1w  count_txn_l2w  count_txn_l4w  pct_usage  \\\n",
       "0       859.31           23.0           38.0           80.0  39.397100   \n",
       "1       972.63           28.0           55.0          107.0  74.525800   \n",
       "2       977.59           50.0           96.0          186.0  78.105179   \n",
       "3       235.51            5.0            8.0           21.0  29.087200   \n",
       "4       160.11            1.0            2.0            5.0   6.346100   \n",
       "\n",
       "    avg_long    avg_lat  sum_amt_label        city  state  \n",
       "0 -80.216954  40.240437        3116.94     Houston     PA  \n",
       "1 -68.910456  42.747861        4113.85  Washington     NH  \n",
       "2 -72.175743  43.942523        4917.81   Charlotte     VT  \n",
       "3 -71.722386  41.607113         355.85      Dallas     PA  \n",
       "4 -80.214683  40.260375           0.00     Houston     PA  \n",
       "\n",
       "[5 rows x 23 columns]"
      ]
     },
     "execution_count": 32,
     "metadata": {},
     "output_type": "execute_result"
    }
   ],
   "source": [
    "df_final.head()"
   ]
  },
  {
   "cell_type": "markdown",
   "metadata": {},
   "source": [
    "# 5. Model"
   ]
  },
  {
   "cell_type": "markdown",
   "metadata": {},
   "source": [
    "train test split"
   ]
  },
  {
   "cell_type": "code",
   "execution_count": 33,
   "metadata": {},
   "outputs": [],
   "source": [
    "start_train = pd.to_datetime(date(2015, 8, 31))\n",
    "end_train = pd.to_datetime(date(2015, 10, 14))\n",
    "\n",
    "start_test = pd.to_datetime(date(2015, 10, 21))\n",
    "end_test = pd.to_datetime(date(2015, 10, 28))"
   ]
  },
  {
   "cell_type": "code",
   "execution_count": 34,
   "metadata": {},
   "outputs": [],
   "source": [
    "df_train = df_final[df_final['feat_dt'].between(start_train, end_train)]\n",
    "\n",
    "df_test = df_final[df_final['feat_dt'].between(start_test, end_test)]"
   ]
  },
  {
   "cell_type": "code",
   "execution_count": 35,
   "metadata": {},
   "outputs": [
    {
     "name": "stderr",
     "output_type": "stream",
     "text": [
      "C:\\Users\\user\\AppData\\Local\\Temp\\ipykernel_11220\\2125116413.py:1: SettingWithCopyWarning: \n",
      "A value is trying to be set on a copy of a slice from a DataFrame\n",
      "\n",
      "See the caveats in the documentation: https://pandas.pydata.org/pandas-docs/stable/user_guide/indexing.html#returning-a-view-versus-a-copy\n",
      "  df_train.drop(columns=['credit_card','feat_dt'], inplace=True)\n",
      "C:\\Users\\user\\AppData\\Local\\Temp\\ipykernel_11220\\2125116413.py:3: SettingWithCopyWarning: \n",
      "A value is trying to be set on a copy of a slice from a DataFrame\n",
      "\n",
      "See the caveats in the documentation: https://pandas.pydata.org/pandas-docs/stable/user_guide/indexing.html#returning-a-view-versus-a-copy\n",
      "  df_test.drop(columns=['credit_card','feat_dt'], inplace=True)\n"
     ]
    }
   ],
   "source": [
    "df_train.drop(columns=['credit_card','feat_dt'], inplace=True)\n",
    "\n",
    "df_test.drop(columns=['credit_card','feat_dt'], inplace=True)"
   ]
  },
  {
   "cell_type": "code",
   "execution_count": 36,
   "metadata": {},
   "outputs": [],
   "source": [
    "X_train = df_train.drop(columns=['sum_amt_label'])\n",
    "y_train = df_train['sum_amt_label']\n",
    "\n",
    "X_test = df_test.drop(columns=['sum_amt_label'])\n",
    "y_test = df_test['sum_amt_label']"
   ]
  },
  {
   "cell_type": "markdown",
   "metadata": {},
   "source": [
    "one hot encoder"
   ]
  },
  {
   "cell_type": "code",
   "execution_count": 37,
   "metadata": {},
   "outputs": [],
   "source": [
    "encoder = OneHotEncoder(drop='first')"
   ]
  },
  {
   "cell_type": "code",
   "execution_count": 38,
   "metadata": {},
   "outputs": [],
   "source": [
    "X_train_encoded = encoder.fit_transform(X_train[['city', 'state']])\n",
    "X_test_encoded = encoder.transform(X_test[['city', 'state']])"
   ]
  },
  {
   "cell_type": "code",
   "execution_count": 39,
   "metadata": {},
   "outputs": [],
   "source": [
    "X_train_encoded = pd.DataFrame(X_train_encoded.toarray(), columns=encoder.get_feature_names_out(['city', 'state']))\n",
    "X_test_encoded = pd.DataFrame(X_test_encoded.toarray(), columns=encoder.get_feature_names_out(['city', 'state']))"
   ]
  },
  {
   "cell_type": "code",
   "execution_count": 40,
   "metadata": {},
   "outputs": [],
   "source": [
    "X_train_encoded = pd.concat([X_train.drop(columns=['city', 'state']).reset_index(drop=True), X_train_encoded.reset_index(drop=True)], axis=1)\n",
    "X_test_encoded = pd.concat([X_test.drop(columns=['city', 'state']).reset_index(drop=True), X_test_encoded.reset_index(drop=True)], axis=1)"
   ]
  },
  {
   "cell_type": "markdown",
   "metadata": {},
   "source": [
    "train model"
   ]
  },
  {
   "cell_type": "code",
   "execution_count": 41,
   "metadata": {},
   "outputs": [],
   "source": [
    "rf_regressor = RandomForestRegressor(n_estimators=100, random_state=42)"
   ]
  },
  {
   "cell_type": "code",
   "execution_count": 42,
   "metadata": {},
   "outputs": [
    {
     "data": {
      "text/html": [
       "<style>#sk-container-id-1 {\n",
       "  /* Definition of color scheme common for light and dark mode */\n",
       "  --sklearn-color-text: black;\n",
       "  --sklearn-color-line: gray;\n",
       "  /* Definition of color scheme for unfitted estimators */\n",
       "  --sklearn-color-unfitted-level-0: #fff5e6;\n",
       "  --sklearn-color-unfitted-level-1: #f6e4d2;\n",
       "  --sklearn-color-unfitted-level-2: #ffe0b3;\n",
       "  --sklearn-color-unfitted-level-3: chocolate;\n",
       "  /* Definition of color scheme for fitted estimators */\n",
       "  --sklearn-color-fitted-level-0: #f0f8ff;\n",
       "  --sklearn-color-fitted-level-1: #d4ebff;\n",
       "  --sklearn-color-fitted-level-2: #b3dbfd;\n",
       "  --sklearn-color-fitted-level-3: cornflowerblue;\n",
       "\n",
       "  /* Specific color for light theme */\n",
       "  --sklearn-color-text-on-default-background: var(--sg-text-color, var(--theme-code-foreground, var(--jp-content-font-color1, black)));\n",
       "  --sklearn-color-background: var(--sg-background-color, var(--theme-background, var(--jp-layout-color0, white)));\n",
       "  --sklearn-color-border-box: var(--sg-text-color, var(--theme-code-foreground, var(--jp-content-font-color1, black)));\n",
       "  --sklearn-color-icon: #696969;\n",
       "\n",
       "  @media (prefers-color-scheme: dark) {\n",
       "    /* Redefinition of color scheme for dark theme */\n",
       "    --sklearn-color-text-on-default-background: var(--sg-text-color, var(--theme-code-foreground, var(--jp-content-font-color1, white)));\n",
       "    --sklearn-color-background: var(--sg-background-color, var(--theme-background, var(--jp-layout-color0, #111)));\n",
       "    --sklearn-color-border-box: var(--sg-text-color, var(--theme-code-foreground, var(--jp-content-font-color1, white)));\n",
       "    --sklearn-color-icon: #878787;\n",
       "  }\n",
       "}\n",
       "\n",
       "#sk-container-id-1 {\n",
       "  color: var(--sklearn-color-text);\n",
       "}\n",
       "\n",
       "#sk-container-id-1 pre {\n",
       "  padding: 0;\n",
       "}\n",
       "\n",
       "#sk-container-id-1 input.sk-hidden--visually {\n",
       "  border: 0;\n",
       "  clip: rect(1px 1px 1px 1px);\n",
       "  clip: rect(1px, 1px, 1px, 1px);\n",
       "  height: 1px;\n",
       "  margin: -1px;\n",
       "  overflow: hidden;\n",
       "  padding: 0;\n",
       "  position: absolute;\n",
       "  width: 1px;\n",
       "}\n",
       "\n",
       "#sk-container-id-1 div.sk-dashed-wrapped {\n",
       "  border: 1px dashed var(--sklearn-color-line);\n",
       "  margin: 0 0.4em 0.5em 0.4em;\n",
       "  box-sizing: border-box;\n",
       "  padding-bottom: 0.4em;\n",
       "  background-color: var(--sklearn-color-background);\n",
       "}\n",
       "\n",
       "#sk-container-id-1 div.sk-container {\n",
       "  /* jupyter's `normalize.less` sets `[hidden] { display: none; }`\n",
       "     but bootstrap.min.css set `[hidden] { display: none !important; }`\n",
       "     so we also need the `!important` here to be able to override the\n",
       "     default hidden behavior on the sphinx rendered scikit-learn.org.\n",
       "     See: https://github.com/scikit-learn/scikit-learn/issues/21755 */\n",
       "  display: inline-block !important;\n",
       "  position: relative;\n",
       "}\n",
       "\n",
       "#sk-container-id-1 div.sk-text-repr-fallback {\n",
       "  display: none;\n",
       "}\n",
       "\n",
       "div.sk-parallel-item,\n",
       "div.sk-serial,\n",
       "div.sk-item {\n",
       "  /* draw centered vertical line to link estimators */\n",
       "  background-image: linear-gradient(var(--sklearn-color-text-on-default-background), var(--sklearn-color-text-on-default-background));\n",
       "  background-size: 2px 100%;\n",
       "  background-repeat: no-repeat;\n",
       "  background-position: center center;\n",
       "}\n",
       "\n",
       "/* Parallel-specific style estimator block */\n",
       "\n",
       "#sk-container-id-1 div.sk-parallel-item::after {\n",
       "  content: \"\";\n",
       "  width: 100%;\n",
       "  border-bottom: 2px solid var(--sklearn-color-text-on-default-background);\n",
       "  flex-grow: 1;\n",
       "}\n",
       "\n",
       "#sk-container-id-1 div.sk-parallel {\n",
       "  display: flex;\n",
       "  align-items: stretch;\n",
       "  justify-content: center;\n",
       "  background-color: var(--sklearn-color-background);\n",
       "  position: relative;\n",
       "}\n",
       "\n",
       "#sk-container-id-1 div.sk-parallel-item {\n",
       "  display: flex;\n",
       "  flex-direction: column;\n",
       "}\n",
       "\n",
       "#sk-container-id-1 div.sk-parallel-item:first-child::after {\n",
       "  align-self: flex-end;\n",
       "  width: 50%;\n",
       "}\n",
       "\n",
       "#sk-container-id-1 div.sk-parallel-item:last-child::after {\n",
       "  align-self: flex-start;\n",
       "  width: 50%;\n",
       "}\n",
       "\n",
       "#sk-container-id-1 div.sk-parallel-item:only-child::after {\n",
       "  width: 0;\n",
       "}\n",
       "\n",
       "/* Serial-specific style estimator block */\n",
       "\n",
       "#sk-container-id-1 div.sk-serial {\n",
       "  display: flex;\n",
       "  flex-direction: column;\n",
       "  align-items: center;\n",
       "  background-color: var(--sklearn-color-background);\n",
       "  padding-right: 1em;\n",
       "  padding-left: 1em;\n",
       "}\n",
       "\n",
       "\n",
       "/* Toggleable style: style used for estimator/Pipeline/ColumnTransformer box that is\n",
       "clickable and can be expanded/collapsed.\n",
       "- Pipeline and ColumnTransformer use this feature and define the default style\n",
       "- Estimators will overwrite some part of the style using the `sk-estimator` class\n",
       "*/\n",
       "\n",
       "/* Pipeline and ColumnTransformer style (default) */\n",
       "\n",
       "#sk-container-id-1 div.sk-toggleable {\n",
       "  /* Default theme specific background. It is overwritten whether we have a\n",
       "  specific estimator or a Pipeline/ColumnTransformer */\n",
       "  background-color: var(--sklearn-color-background);\n",
       "}\n",
       "\n",
       "/* Toggleable label */\n",
       "#sk-container-id-1 label.sk-toggleable__label {\n",
       "  cursor: pointer;\n",
       "  display: block;\n",
       "  width: 100%;\n",
       "  margin-bottom: 0;\n",
       "  padding: 0.5em;\n",
       "  box-sizing: border-box;\n",
       "  text-align: center;\n",
       "}\n",
       "\n",
       "#sk-container-id-1 label.sk-toggleable__label-arrow:before {\n",
       "  /* Arrow on the left of the label */\n",
       "  content: \"▸\";\n",
       "  float: left;\n",
       "  margin-right: 0.25em;\n",
       "  color: var(--sklearn-color-icon);\n",
       "}\n",
       "\n",
       "#sk-container-id-1 label.sk-toggleable__label-arrow:hover:before {\n",
       "  color: var(--sklearn-color-text);\n",
       "}\n",
       "\n",
       "/* Toggleable content - dropdown */\n",
       "\n",
       "#sk-container-id-1 div.sk-toggleable__content {\n",
       "  max-height: 0;\n",
       "  max-width: 0;\n",
       "  overflow: hidden;\n",
       "  text-align: left;\n",
       "  /* unfitted */\n",
       "  background-color: var(--sklearn-color-unfitted-level-0);\n",
       "}\n",
       "\n",
       "#sk-container-id-1 div.sk-toggleable__content.fitted {\n",
       "  /* fitted */\n",
       "  background-color: var(--sklearn-color-fitted-level-0);\n",
       "}\n",
       "\n",
       "#sk-container-id-1 div.sk-toggleable__content pre {\n",
       "  margin: 0.2em;\n",
       "  border-radius: 0.25em;\n",
       "  color: var(--sklearn-color-text);\n",
       "  /* unfitted */\n",
       "  background-color: var(--sklearn-color-unfitted-level-0);\n",
       "}\n",
       "\n",
       "#sk-container-id-1 div.sk-toggleable__content.fitted pre {\n",
       "  /* unfitted */\n",
       "  background-color: var(--sklearn-color-fitted-level-0);\n",
       "}\n",
       "\n",
       "#sk-container-id-1 input.sk-toggleable__control:checked~div.sk-toggleable__content {\n",
       "  /* Expand drop-down */\n",
       "  max-height: 200px;\n",
       "  max-width: 100%;\n",
       "  overflow: auto;\n",
       "}\n",
       "\n",
       "#sk-container-id-1 input.sk-toggleable__control:checked~label.sk-toggleable__label-arrow:before {\n",
       "  content: \"▾\";\n",
       "}\n",
       "\n",
       "/* Pipeline/ColumnTransformer-specific style */\n",
       "\n",
       "#sk-container-id-1 div.sk-label input.sk-toggleable__control:checked~label.sk-toggleable__label {\n",
       "  color: var(--sklearn-color-text);\n",
       "  background-color: var(--sklearn-color-unfitted-level-2);\n",
       "}\n",
       "\n",
       "#sk-container-id-1 div.sk-label.fitted input.sk-toggleable__control:checked~label.sk-toggleable__label {\n",
       "  background-color: var(--sklearn-color-fitted-level-2);\n",
       "}\n",
       "\n",
       "/* Estimator-specific style */\n",
       "\n",
       "/* Colorize estimator box */\n",
       "#sk-container-id-1 div.sk-estimator input.sk-toggleable__control:checked~label.sk-toggleable__label {\n",
       "  /* unfitted */\n",
       "  background-color: var(--sklearn-color-unfitted-level-2);\n",
       "}\n",
       "\n",
       "#sk-container-id-1 div.sk-estimator.fitted input.sk-toggleable__control:checked~label.sk-toggleable__label {\n",
       "  /* fitted */\n",
       "  background-color: var(--sklearn-color-fitted-level-2);\n",
       "}\n",
       "\n",
       "#sk-container-id-1 div.sk-label label.sk-toggleable__label,\n",
       "#sk-container-id-1 div.sk-label label {\n",
       "  /* The background is the default theme color */\n",
       "  color: var(--sklearn-color-text-on-default-background);\n",
       "}\n",
       "\n",
       "/* On hover, darken the color of the background */\n",
       "#sk-container-id-1 div.sk-label:hover label.sk-toggleable__label {\n",
       "  color: var(--sklearn-color-text);\n",
       "  background-color: var(--sklearn-color-unfitted-level-2);\n",
       "}\n",
       "\n",
       "/* Label box, darken color on hover, fitted */\n",
       "#sk-container-id-1 div.sk-label.fitted:hover label.sk-toggleable__label.fitted {\n",
       "  color: var(--sklearn-color-text);\n",
       "  background-color: var(--sklearn-color-fitted-level-2);\n",
       "}\n",
       "\n",
       "/* Estimator label */\n",
       "\n",
       "#sk-container-id-1 div.sk-label label {\n",
       "  font-family: monospace;\n",
       "  font-weight: bold;\n",
       "  display: inline-block;\n",
       "  line-height: 1.2em;\n",
       "}\n",
       "\n",
       "#sk-container-id-1 div.sk-label-container {\n",
       "  text-align: center;\n",
       "}\n",
       "\n",
       "/* Estimator-specific */\n",
       "#sk-container-id-1 div.sk-estimator {\n",
       "  font-family: monospace;\n",
       "  border: 1px dotted var(--sklearn-color-border-box);\n",
       "  border-radius: 0.25em;\n",
       "  box-sizing: border-box;\n",
       "  margin-bottom: 0.5em;\n",
       "  /* unfitted */\n",
       "  background-color: var(--sklearn-color-unfitted-level-0);\n",
       "}\n",
       "\n",
       "#sk-container-id-1 div.sk-estimator.fitted {\n",
       "  /* fitted */\n",
       "  background-color: var(--sklearn-color-fitted-level-0);\n",
       "}\n",
       "\n",
       "/* on hover */\n",
       "#sk-container-id-1 div.sk-estimator:hover {\n",
       "  /* unfitted */\n",
       "  background-color: var(--sklearn-color-unfitted-level-2);\n",
       "}\n",
       "\n",
       "#sk-container-id-1 div.sk-estimator.fitted:hover {\n",
       "  /* fitted */\n",
       "  background-color: var(--sklearn-color-fitted-level-2);\n",
       "}\n",
       "\n",
       "/* Specification for estimator info (e.g. \"i\" and \"?\") */\n",
       "\n",
       "/* Common style for \"i\" and \"?\" */\n",
       "\n",
       ".sk-estimator-doc-link,\n",
       "a:link.sk-estimator-doc-link,\n",
       "a:visited.sk-estimator-doc-link {\n",
       "  float: right;\n",
       "  font-size: smaller;\n",
       "  line-height: 1em;\n",
       "  font-family: monospace;\n",
       "  background-color: var(--sklearn-color-background);\n",
       "  border-radius: 1em;\n",
       "  height: 1em;\n",
       "  width: 1em;\n",
       "  text-decoration: none !important;\n",
       "  margin-left: 1ex;\n",
       "  /* unfitted */\n",
       "  border: var(--sklearn-color-unfitted-level-1) 1pt solid;\n",
       "  color: var(--sklearn-color-unfitted-level-1);\n",
       "}\n",
       "\n",
       ".sk-estimator-doc-link.fitted,\n",
       "a:link.sk-estimator-doc-link.fitted,\n",
       "a:visited.sk-estimator-doc-link.fitted {\n",
       "  /* fitted */\n",
       "  border: var(--sklearn-color-fitted-level-1) 1pt solid;\n",
       "  color: var(--sklearn-color-fitted-level-1);\n",
       "}\n",
       "\n",
       "/* On hover */\n",
       "div.sk-estimator:hover .sk-estimator-doc-link:hover,\n",
       ".sk-estimator-doc-link:hover,\n",
       "div.sk-label-container:hover .sk-estimator-doc-link:hover,\n",
       ".sk-estimator-doc-link:hover {\n",
       "  /* unfitted */\n",
       "  background-color: var(--sklearn-color-unfitted-level-3);\n",
       "  color: var(--sklearn-color-background);\n",
       "  text-decoration: none;\n",
       "}\n",
       "\n",
       "div.sk-estimator.fitted:hover .sk-estimator-doc-link.fitted:hover,\n",
       ".sk-estimator-doc-link.fitted:hover,\n",
       "div.sk-label-container:hover .sk-estimator-doc-link.fitted:hover,\n",
       ".sk-estimator-doc-link.fitted:hover {\n",
       "  /* fitted */\n",
       "  background-color: var(--sklearn-color-fitted-level-3);\n",
       "  color: var(--sklearn-color-background);\n",
       "  text-decoration: none;\n",
       "}\n",
       "\n",
       "/* Span, style for the box shown on hovering the info icon */\n",
       ".sk-estimator-doc-link span {\n",
       "  display: none;\n",
       "  z-index: 9999;\n",
       "  position: relative;\n",
       "  font-weight: normal;\n",
       "  right: .2ex;\n",
       "  padding: .5ex;\n",
       "  margin: .5ex;\n",
       "  width: min-content;\n",
       "  min-width: 20ex;\n",
       "  max-width: 50ex;\n",
       "  color: var(--sklearn-color-text);\n",
       "  box-shadow: 2pt 2pt 4pt #999;\n",
       "  /* unfitted */\n",
       "  background: var(--sklearn-color-unfitted-level-0);\n",
       "  border: .5pt solid var(--sklearn-color-unfitted-level-3);\n",
       "}\n",
       "\n",
       ".sk-estimator-doc-link.fitted span {\n",
       "  /* fitted */\n",
       "  background: var(--sklearn-color-fitted-level-0);\n",
       "  border: var(--sklearn-color-fitted-level-3);\n",
       "}\n",
       "\n",
       ".sk-estimator-doc-link:hover span {\n",
       "  display: block;\n",
       "}\n",
       "\n",
       "/* \"?\"-specific style due to the `<a>` HTML tag */\n",
       "\n",
       "#sk-container-id-1 a.estimator_doc_link {\n",
       "  float: right;\n",
       "  font-size: 1rem;\n",
       "  line-height: 1em;\n",
       "  font-family: monospace;\n",
       "  background-color: var(--sklearn-color-background);\n",
       "  border-radius: 1rem;\n",
       "  height: 1rem;\n",
       "  width: 1rem;\n",
       "  text-decoration: none;\n",
       "  /* unfitted */\n",
       "  color: var(--sklearn-color-unfitted-level-1);\n",
       "  border: var(--sklearn-color-unfitted-level-1) 1pt solid;\n",
       "}\n",
       "\n",
       "#sk-container-id-1 a.estimator_doc_link.fitted {\n",
       "  /* fitted */\n",
       "  border: var(--sklearn-color-fitted-level-1) 1pt solid;\n",
       "  color: var(--sklearn-color-fitted-level-1);\n",
       "}\n",
       "\n",
       "/* On hover */\n",
       "#sk-container-id-1 a.estimator_doc_link:hover {\n",
       "  /* unfitted */\n",
       "  background-color: var(--sklearn-color-unfitted-level-3);\n",
       "  color: var(--sklearn-color-background);\n",
       "  text-decoration: none;\n",
       "}\n",
       "\n",
       "#sk-container-id-1 a.estimator_doc_link.fitted:hover {\n",
       "  /* fitted */\n",
       "  background-color: var(--sklearn-color-fitted-level-3);\n",
       "}\n",
       "</style><div id=\"sk-container-id-1\" class=\"sk-top-container\"><div class=\"sk-text-repr-fallback\"><pre>RandomForestRegressor(random_state=42)</pre><b>In a Jupyter environment, please rerun this cell to show the HTML representation or trust the notebook. <br />On GitHub, the HTML representation is unable to render, please try loading this page with nbviewer.org.</b></div><div class=\"sk-container\" hidden><div class=\"sk-item\"><div class=\"sk-estimator fitted sk-toggleable\"><input class=\"sk-toggleable__control sk-hidden--visually\" id=\"sk-estimator-id-1\" type=\"checkbox\" checked><label for=\"sk-estimator-id-1\" class=\"sk-toggleable__label fitted sk-toggleable__label-arrow fitted\">&nbsp;&nbsp;RandomForestRegressor<a class=\"sk-estimator-doc-link fitted\" rel=\"noreferrer\" target=\"_blank\" href=\"https://scikit-learn.org/1.5/modules/generated/sklearn.ensemble.RandomForestRegressor.html\">?<span>Documentation for RandomForestRegressor</span></a><span class=\"sk-estimator-doc-link fitted\">i<span>Fitted</span></span></label><div class=\"sk-toggleable__content fitted\"><pre>RandomForestRegressor(random_state=42)</pre></div> </div></div></div></div>"
      ],
      "text/plain": [
       "RandomForestRegressor(random_state=42)"
      ]
     },
     "execution_count": 42,
     "metadata": {},
     "output_type": "execute_result"
    }
   ],
   "source": [
    "rf_regressor.fit(X_train_encoded, y_train)"
   ]
  },
  {
   "cell_type": "code",
   "execution_count": 43,
   "metadata": {},
   "outputs": [],
   "source": [
    "y_pred_train = rf_regressor.predict(X_train_encoded)\n",
    "y_pred_test = rf_regressor.predict(X_test_encoded)"
   ]
  },
  {
   "cell_type": "code",
   "execution_count": 44,
   "metadata": {},
   "outputs": [],
   "source": [
    "train_mae = mean_absolute_error(y_train, y_pred_train)\n",
    "test_mae = mean_absolute_error(y_test, y_pred_test)"
   ]
  },
  {
   "cell_type": "code",
   "execution_count": 45,
   "metadata": {},
   "outputs": [
    {
     "name": "stdout",
     "output_type": "stream",
     "text": [
      "Train MAE: 213.49380941852962\n",
      "Test MAE: 1088.8276767153018\n"
     ]
    }
   ],
   "source": [
    "print(f\"Train MAE: {train_mae}\")\n",
    "print(f\"Test MAE: {test_mae}\")"
   ]
  }
 ],
 "metadata": {
  "kernelspec": {
   "display_name": "base",
   "language": "python",
   "name": "python3"
  },
  "language_info": {
   "codemirror_mode": {
    "name": "ipython",
    "version": 3
   },
   "file_extension": ".py",
   "mimetype": "text/x-python",
   "name": "python",
   "nbconvert_exporter": "python",
   "pygments_lexer": "ipython3",
   "version": "3.12.7"
  }
 },
 "nbformat": 4,
 "nbformat_minor": 4
}
