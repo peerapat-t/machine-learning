{
 "cells": [
  {
   "cell_type": "code",
   "execution_count": 2,
   "metadata": {
    "tags": []
   },
   "outputs": [],
   "source": [
    "# https://www.youtube.com/watch?v=i3uMhH2xeOM&ab_channel=Buynomics"
   ]
  },
  {
   "cell_type": "code",
   "execution_count": 3,
   "metadata": {
    "tags": []
   },
   "outputs": [],
   "source": [
    "# https://ngugijoan.medium.com/pricing-on-point-the-art-and-science-of-dynamic-pricing-dd543bf80f01\n",
    "# https://ngugijoan.medium.com/dynamic-pricing-implementation-through-data-science-price-optimization-strategies-56adab4d3176\n",
    "# https://levelup.gitconnected.com/calculating-individual-price-elasticity-for-products-9787e3b82875\n",
    "# https://www.kaggle.com/code/arnabchaki/flight-fare-prediction-0-96-r2-score?fbclid=IwZXh0bgNhZW0CMTAAAR05L4by3xyhImYsDOnF-ufsQQ7VbBefv8Bg3ECHy1JHCR_XmjSZIAKM7yE_aem_AWdIsN4qMSlU9R0FQsAR9y8hT_e_ggs_tIfnGdUdpwA4mLwPAbLPidigOsMMcKNF-4wyLjSg2hcmqzefdb3gX5bT\n",
    "# https://datascience.oneoffcoder.com/pricing-elasticity-modeling.html#Random-forest"
   ]
  },
  {
   "cell_type": "code",
   "execution_count": 4,
   "metadata": {
    "tags": []
   },
   "outputs": [],
   "source": [
    "import warnings\n",
    "warnings.simplefilter(\"ignore\")"
   ]
  },
  {
   "cell_type": "code",
   "execution_count": 5,
   "metadata": {
    "tags": []
   },
   "outputs": [],
   "source": [
    "import pandas as pd\n",
    "import numpy as np\n",
    "import matplotlib.pyplot as plt\n",
    "import matplotlib.dates as mdates\n",
    "import seaborn as sns"
   ]
  },
  {
   "cell_type": "code",
   "execution_count": 6,
   "metadata": {},
   "outputs": [],
   "source": [
    "import duckdb"
   ]
  },
  {
   "cell_type": "code",
   "execution_count": 7,
   "metadata": {
    "tags": []
   },
   "outputs": [],
   "source": [
    "from sklearn.tree import DecisionTreeRegressor"
   ]
  },
  {
   "cell_type": "code",
   "execution_count": 8,
   "metadata": {
    "tags": []
   },
   "outputs": [],
   "source": [
    "from sklearn.model_selection import GridSearchCV"
   ]
  },
  {
   "cell_type": "code",
   "execution_count": 9,
   "metadata": {
    "tags": []
   },
   "outputs": [],
   "source": [
    "from sklearn.metrics import make_scorer, mean_squared_error"
   ]
  },
  {
   "cell_type": "markdown",
   "metadata": {},
   "source": [
    "# 10. Load data"
   ]
  },
  {
   "cell_type": "code",
   "execution_count": 10,
   "metadata": {
    "tags": []
   },
   "outputs": [],
   "source": [
    "df = pd.read_csv(\"online_retail_II_cleaned_with_cost_and_cat.csv\")"
   ]
  },
  {
   "cell_type": "code",
   "execution_count": 11,
   "metadata": {},
   "outputs": [
    {
     "data": {
      "text/html": [
       "<div>\n",
       "<style scoped>\n",
       "    .dataframe tbody tr th:only-of-type {\n",
       "        vertical-align: middle;\n",
       "    }\n",
       "\n",
       "    .dataframe tbody tr th {\n",
       "        vertical-align: top;\n",
       "    }\n",
       "\n",
       "    .dataframe thead th {\n",
       "        text-align: right;\n",
       "    }\n",
       "</style>\n",
       "<table border=\"1\" class=\"dataframe\">\n",
       "  <thead>\n",
       "    <tr style=\"text-align: right;\">\n",
       "      <th></th>\n",
       "      <th>Invoice</th>\n",
       "      <th>StockCode</th>\n",
       "      <th>Description</th>\n",
       "      <th>Quantity</th>\n",
       "      <th>InvoiceDate</th>\n",
       "      <th>Price</th>\n",
       "      <th>Customer ID</th>\n",
       "      <th>Country</th>\n",
       "      <th>profit_margin</th>\n",
       "      <th>Cost_price</th>\n",
       "      <th>Category</th>\n",
       "    </tr>\n",
       "  </thead>\n",
       "  <tbody>\n",
       "    <tr>\n",
       "      <th>0</th>\n",
       "      <td>489434</td>\n",
       "      <td>85048</td>\n",
       "      <td>15CM CHRISTMAS GLASS BALL 20 LIGHTS</td>\n",
       "      <td>12</td>\n",
       "      <td>2009-12-01 07:45:00</td>\n",
       "      <td>6.95</td>\n",
       "      <td>13085.0</td>\n",
       "      <td>United Kingdom</td>\n",
       "      <td>0.193525</td>\n",
       "      <td>5.605004</td>\n",
       "      <td>Home and Garden</td>\n",
       "    </tr>\n",
       "    <tr>\n",
       "      <th>1</th>\n",
       "      <td>489434</td>\n",
       "      <td>79323P</td>\n",
       "      <td>PINK CHERRY LIGHTS</td>\n",
       "      <td>12</td>\n",
       "      <td>2009-12-01 07:45:00</td>\n",
       "      <td>6.75</td>\n",
       "      <td>13085.0</td>\n",
       "      <td>United Kingdom</td>\n",
       "      <td>0.475850</td>\n",
       "      <td>3.538012</td>\n",
       "      <td>Home and Garden</td>\n",
       "    </tr>\n",
       "    <tr>\n",
       "      <th>2</th>\n",
       "      <td>489434</td>\n",
       "      <td>79323W</td>\n",
       "      <td>WHITE CHERRY LIGHTS</td>\n",
       "      <td>12</td>\n",
       "      <td>2009-12-01 07:45:00</td>\n",
       "      <td>6.75</td>\n",
       "      <td>13085.0</td>\n",
       "      <td>United Kingdom</td>\n",
       "      <td>0.368677</td>\n",
       "      <td>4.261430</td>\n",
       "      <td>Home and Garden</td>\n",
       "    </tr>\n",
       "    <tr>\n",
       "      <th>3</th>\n",
       "      <td>489434</td>\n",
       "      <td>22041</td>\n",
       "      <td>RECORD FRAME 7\" SINGLE SIZE</td>\n",
       "      <td>48</td>\n",
       "      <td>2009-12-01 07:45:00</td>\n",
       "      <td>2.10</td>\n",
       "      <td>13085.0</td>\n",
       "      <td>United Kingdom</td>\n",
       "      <td>0.303343</td>\n",
       "      <td>1.462980</td>\n",
       "      <td>Arts and Crafts</td>\n",
       "    </tr>\n",
       "    <tr>\n",
       "      <th>4</th>\n",
       "      <td>489434</td>\n",
       "      <td>21232</td>\n",
       "      <td>STRAWBERRY CERAMIC TRINKET BOX</td>\n",
       "      <td>24</td>\n",
       "      <td>2009-12-01 07:45:00</td>\n",
       "      <td>1.25</td>\n",
       "      <td>13085.0</td>\n",
       "      <td>United Kingdom</td>\n",
       "      <td>0.086449</td>\n",
       "      <td>1.141939</td>\n",
       "      <td>Arts and Crafts</td>\n",
       "    </tr>\n",
       "  </tbody>\n",
       "</table>\n",
       "</div>"
      ],
      "text/plain": [
       "   Invoice StockCode                          Description  Quantity  \\\n",
       "0   489434     85048  15CM CHRISTMAS GLASS BALL 20 LIGHTS        12   \n",
       "1   489434    79323P                   PINK CHERRY LIGHTS        12   \n",
       "2   489434    79323W                  WHITE CHERRY LIGHTS        12   \n",
       "3   489434     22041          RECORD FRAME 7\" SINGLE SIZE        48   \n",
       "4   489434     21232       STRAWBERRY CERAMIC TRINKET BOX        24   \n",
       "\n",
       "           InvoiceDate  Price  Customer ID         Country  profit_margin  \\\n",
       "0  2009-12-01 07:45:00   6.95      13085.0  United Kingdom       0.193525   \n",
       "1  2009-12-01 07:45:00   6.75      13085.0  United Kingdom       0.475850   \n",
       "2  2009-12-01 07:45:00   6.75      13085.0  United Kingdom       0.368677   \n",
       "3  2009-12-01 07:45:00   2.10      13085.0  United Kingdom       0.303343   \n",
       "4  2009-12-01 07:45:00   1.25      13085.0  United Kingdom       0.086449   \n",
       "\n",
       "   Cost_price         Category  \n",
       "0    5.605004  Home and Garden  \n",
       "1    3.538012  Home and Garden  \n",
       "2    4.261430  Home and Garden  \n",
       "3    1.462980  Arts and Crafts  \n",
       "4    1.141939  Arts and Crafts  "
      ]
     },
     "execution_count": 11,
     "metadata": {},
     "output_type": "execute_result"
    }
   ],
   "source": [
    "df.head()"
   ]
  },
  {
   "cell_type": "code",
   "execution_count": 12,
   "metadata": {
    "tags": []
   },
   "outputs": [
    {
     "data": {
      "text/plain": [
       "(397432, 11)"
      ]
     },
     "execution_count": 12,
     "metadata": {},
     "output_type": "execute_result"
    }
   ],
   "source": [
    "df.shape"
   ]
  },
  {
   "cell_type": "markdown",
   "metadata": {},
   "source": [
    "# 11. Feature engineering"
   ]
  },
  {
   "cell_type": "code",
   "execution_count": 13,
   "metadata": {},
   "outputs": [],
   "source": [
    "df['InvoiceDate'] = pd.to_datetime(df['InvoiceDate'])"
   ]
  },
  {
   "cell_type": "code",
   "execution_count": 14,
   "metadata": {},
   "outputs": [],
   "source": [
    "df['yyyymmdd'] = df['InvoiceDate'].dt.strftime('%Y%m%d')"
   ]
  },
  {
   "cell_type": "markdown",
   "metadata": {},
   "source": [
    "datetime features"
   ]
  },
  {
   "cell_type": "code",
   "execution_count": 15,
   "metadata": {},
   "outputs": [],
   "source": [
    "def datetime_feature_extraction(df):\n",
    "    # Day extraction\n",
    "    df['dayofweek'] = df['InvoiceDate'].dt.dayofweek\n",
    "    df['dayofmonth'] = df['InvoiceDate'].dt.day\n",
    "    df['dayofyear'] = df['InvoiceDate'].dt.dayofyear\n",
    "    df['is_weekend'] = (df['InvoiceDate'].dt.dayofweek >= 5).astype(int)\n",
    "    df['weekday_weekend'] = df['InvoiceDate'].dt.dayofweek.apply(lambda x: 0 if x >= 5 else 1)\n",
    "\n",
    "    # Week extraction\n",
    "    df['weekofyear'] = df['InvoiceDate'].dt.isocalendar().week\n",
    "    df['weekofmonth'] = np.ceil(df['dayofmonth'] / 7).astype(int)    \n",
    "    \n",
    "    # Month extraction\n",
    "    df['month'] = df['InvoiceDate'].dt.month\n",
    "    df['quarter'] = df['InvoiceDate'].dt.quarter\n",
    "    df['days_in_month'] = df['InvoiceDate'].dt.days_in_month\n",
    "\n",
    "    # Year extraction\n",
    "    df['year'] = 2019 - df['InvoiceDate'].dt.year\n",
    "    return df"
   ]
  },
  {
   "cell_type": "code",
   "execution_count": 16,
   "metadata": {},
   "outputs": [],
   "source": [
    "df = datetime_feature_extraction(df)"
   ]
  },
  {
   "cell_type": "markdown",
   "metadata": {},
   "source": [
    "group by"
   ]
  },
  {
   "cell_type": "code",
   "execution_count": 17,
   "metadata": {},
   "outputs": [],
   "source": [
    "aggregation_functions = {\n",
    "    'Quantity': 'sum',\n",
    "    'Price': 'mean',\n",
    "    'Cost_price':'mean',\n",
    "    'dayofweek': 'max',\n",
    "    'dayofmonth': 'max',\n",
    "    'dayofyear': 'max',\n",
    "    'is_weekend': 'max',\n",
    "    'weekday_weekend': 'max',\n",
    "    'weekofyear': 'max',\n",
    "    'weekofmonth': 'max',\n",
    "    'month': 'max',\n",
    "    'quarter': 'max',\n",
    "    'days_in_month': 'max',\n",
    "    'year': 'max'\n",
    "}"
   ]
  },
  {
   "cell_type": "code",
   "execution_count": 18,
   "metadata": {},
   "outputs": [],
   "source": [
    "df = df.groupby(['StockCode','Category','Description','yyyymmdd']).agg(aggregation_functions).reset_index()"
   ]
  },
  {
   "cell_type": "markdown",
   "metadata": {},
   "source": [
    "create change"
   ]
  },
  {
   "cell_type": "code",
   "execution_count": 19,
   "metadata": {},
   "outputs": [],
   "source": [
    "df['change_qty'] = df['Quantity'].pct_change()"
   ]
  },
  {
   "cell_type": "code",
   "execution_count": 20,
   "metadata": {},
   "outputs": [],
   "source": [
    "df['change_price'] = df['Price'].pct_change()"
   ]
  },
  {
   "cell_type": "code",
   "execution_count": 21,
   "metadata": {},
   "outputs": [],
   "source": [
    "df.dropna(inplace=True)"
   ]
  },
  {
   "cell_type": "code",
   "execution_count": 22,
   "metadata": {},
   "outputs": [
    {
     "data": {
      "text/html": [
       "<div>\n",
       "<style scoped>\n",
       "    .dataframe tbody tr th:only-of-type {\n",
       "        vertical-align: middle;\n",
       "    }\n",
       "\n",
       "    .dataframe tbody tr th {\n",
       "        vertical-align: top;\n",
       "    }\n",
       "\n",
       "    .dataframe thead th {\n",
       "        text-align: right;\n",
       "    }\n",
       "</style>\n",
       "<table border=\"1\" class=\"dataframe\">\n",
       "  <thead>\n",
       "    <tr style=\"text-align: right;\">\n",
       "      <th></th>\n",
       "      <th>StockCode</th>\n",
       "      <th>Category</th>\n",
       "      <th>Description</th>\n",
       "      <th>yyyymmdd</th>\n",
       "      <th>Quantity</th>\n",
       "      <th>Price</th>\n",
       "      <th>Cost_price</th>\n",
       "      <th>dayofweek</th>\n",
       "      <th>dayofmonth</th>\n",
       "      <th>dayofyear</th>\n",
       "      <th>is_weekend</th>\n",
       "      <th>weekday_weekend</th>\n",
       "      <th>weekofyear</th>\n",
       "      <th>weekofmonth</th>\n",
       "      <th>month</th>\n",
       "      <th>quarter</th>\n",
       "      <th>days_in_month</th>\n",
       "      <th>year</th>\n",
       "      <th>change_qty</th>\n",
       "      <th>change_price</th>\n",
       "    </tr>\n",
       "  </thead>\n",
       "  <tbody>\n",
       "    <tr>\n",
       "      <th>116853</th>\n",
       "      <td>22357</td>\n",
       "      <td>Food and Beverages</td>\n",
       "      <td>KINGS CHOICE BISCUIT TIN</td>\n",
       "      <td>20100413</td>\n",
       "      <td>7</td>\n",
       "      <td>4.25000</td>\n",
       "      <td>3.129313</td>\n",
       "      <td>1</td>\n",
       "      <td>13</td>\n",
       "      <td>103</td>\n",
       "      <td>0</td>\n",
       "      <td>1</td>\n",
       "      <td>15</td>\n",
       "      <td>2</td>\n",
       "      <td>4</td>\n",
       "      <td>2</td>\n",
       "      <td>30</td>\n",
       "      <td>9</td>\n",
       "      <td>-0.766667</td>\n",
       "      <td>0.049383</td>\n",
       "    </tr>\n",
       "    <tr>\n",
       "      <th>79540</th>\n",
       "      <td>21931</td>\n",
       "      <td>Home and Garden</td>\n",
       "      <td>JUMBO STORAGE BAG SUKI</td>\n",
       "      <td>20100506</td>\n",
       "      <td>34</td>\n",
       "      <td>1.95000</td>\n",
       "      <td>1.593603</td>\n",
       "      <td>3</td>\n",
       "      <td>6</td>\n",
       "      <td>126</td>\n",
       "      <td>0</td>\n",
       "      <td>1</td>\n",
       "      <td>18</td>\n",
       "      <td>1</td>\n",
       "      <td>5</td>\n",
       "      <td>2</td>\n",
       "      <td>31</td>\n",
       "      <td>9</td>\n",
       "      <td>-0.701754</td>\n",
       "      <td>0.040000</td>\n",
       "    </tr>\n",
       "    <tr>\n",
       "      <th>137777</th>\n",
       "      <td>22566</td>\n",
       "      <td>Clothing and Accessories</td>\n",
       "      <td>FELTCRAFT HAIRBAND S/2 PINK/PURPLE</td>\n",
       "      <td>20100912</td>\n",
       "      <td>2</td>\n",
       "      <td>0.85000</td>\n",
       "      <td>0.776379</td>\n",
       "      <td>6</td>\n",
       "      <td>12</td>\n",
       "      <td>255</td>\n",
       "      <td>1</td>\n",
       "      <td>0</td>\n",
       "      <td>36</td>\n",
       "      <td>2</td>\n",
       "      <td>9</td>\n",
       "      <td>3</td>\n",
       "      <td>30</td>\n",
       "      <td>9</td>\n",
       "      <td>-0.833333</td>\n",
       "      <td>0.000000</td>\n",
       "    </tr>\n",
       "    <tr>\n",
       "      <th>113224</th>\n",
       "      <td>22326</td>\n",
       "      <td>Kitchen and Dining</td>\n",
       "      <td>ROUND SNACK BOXES SET4 WOODLAND</td>\n",
       "      <td>20100817</td>\n",
       "      <td>6</td>\n",
       "      <td>2.95000</td>\n",
       "      <td>2.100246</td>\n",
       "      <td>1</td>\n",
       "      <td>17</td>\n",
       "      <td>229</td>\n",
       "      <td>0</td>\n",
       "      <td>1</td>\n",
       "      <td>33</td>\n",
       "      <td>3</td>\n",
       "      <td>8</td>\n",
       "      <td>3</td>\n",
       "      <td>31</td>\n",
       "      <td>9</td>\n",
       "      <td>0.000000</td>\n",
       "      <td>0.000000</td>\n",
       "    </tr>\n",
       "    <tr>\n",
       "      <th>116470</th>\n",
       "      <td>22355</td>\n",
       "      <td>Clothing and Accessories</td>\n",
       "      <td>CHARLOTTE BAGSUKI DESIGN</td>\n",
       "      <td>20100910</td>\n",
       "      <td>36</td>\n",
       "      <td>0.85000</td>\n",
       "      <td>0.634109</td>\n",
       "      <td>4</td>\n",
       "      <td>10</td>\n",
       "      <td>253</td>\n",
       "      <td>0</td>\n",
       "      <td>1</td>\n",
       "      <td>36</td>\n",
       "      <td>2</td>\n",
       "      <td>9</td>\n",
       "      <td>3</td>\n",
       "      <td>30</td>\n",
       "      <td>9</td>\n",
       "      <td>-0.076923</td>\n",
       "      <td>0.000000</td>\n",
       "    </tr>\n",
       "    <tr>\n",
       "      <th>21426</th>\n",
       "      <td>21001</td>\n",
       "      <td>Clothing and Accessories</td>\n",
       "      <td>ROSE DU SUD WASHBAG</td>\n",
       "      <td>20100228</td>\n",
       "      <td>1</td>\n",
       "      <td>5.95000</td>\n",
       "      <td>3.801171</td>\n",
       "      <td>6</td>\n",
       "      <td>28</td>\n",
       "      <td>59</td>\n",
       "      <td>1</td>\n",
       "      <td>0</td>\n",
       "      <td>8</td>\n",
       "      <td>4</td>\n",
       "      <td>2</td>\n",
       "      <td>1</td>\n",
       "      <td>28</td>\n",
       "      <td>9</td>\n",
       "      <td>0.000000</td>\n",
       "      <td>0.000000</td>\n",
       "    </tr>\n",
       "    <tr>\n",
       "      <th>174611</th>\n",
       "      <td>72807B</td>\n",
       "      <td>Health and Beauty</td>\n",
       "      <td>SET/3 OCEAN SCENT CANDLE JEWEL BOX</td>\n",
       "      <td>20100128</td>\n",
       "      <td>4</td>\n",
       "      <td>4.25000</td>\n",
       "      <td>4.161204</td>\n",
       "      <td>3</td>\n",
       "      <td>28</td>\n",
       "      <td>28</td>\n",
       "      <td>0</td>\n",
       "      <td>1</td>\n",
       "      <td>4</td>\n",
       "      <td>4</td>\n",
       "      <td>1</td>\n",
       "      <td>1</td>\n",
       "      <td>31</td>\n",
       "      <td>9</td>\n",
       "      <td>0.333333</td>\n",
       "      <td>0.000000</td>\n",
       "    </tr>\n",
       "    <tr>\n",
       "      <th>12266</th>\n",
       "      <td>20734</td>\n",
       "      <td>Tools and Home Improvement</td>\n",
       "      <td>SILVER MINI TAPE MEASURE</td>\n",
       "      <td>20100913</td>\n",
       "      <td>250</td>\n",
       "      <td>0.72000</td>\n",
       "      <td>0.419397</td>\n",
       "      <td>0</td>\n",
       "      <td>13</td>\n",
       "      <td>256</td>\n",
       "      <td>0</td>\n",
       "      <td>1</td>\n",
       "      <td>37</td>\n",
       "      <td>2</td>\n",
       "      <td>9</td>\n",
       "      <td>3</td>\n",
       "      <td>30</td>\n",
       "      <td>9</td>\n",
       "      <td>249.000000</td>\n",
       "      <td>-0.152941</td>\n",
       "    </tr>\n",
       "    <tr>\n",
       "      <th>24289</th>\n",
       "      <td>21077</td>\n",
       "      <td>Kitchen and Dining</td>\n",
       "      <td>SET/20 WOODLAND PAPER NAPKINS</td>\n",
       "      <td>20100421</td>\n",
       "      <td>120</td>\n",
       "      <td>0.74500</td>\n",
       "      <td>0.614004</td>\n",
       "      <td>2</td>\n",
       "      <td>21</td>\n",
       "      <td>111</td>\n",
       "      <td>0</td>\n",
       "      <td>1</td>\n",
       "      <td>16</td>\n",
       "      <td>3</td>\n",
       "      <td>4</td>\n",
       "      <td>2</td>\n",
       "      <td>30</td>\n",
       "      <td>9</td>\n",
       "      <td>9.000000</td>\n",
       "      <td>-0.123529</td>\n",
       "    </tr>\n",
       "    <tr>\n",
       "      <th>31565</th>\n",
       "      <td>21181</td>\n",
       "      <td>Home and Garden</td>\n",
       "      <td>PLEASE ONE PERSONMETAL SIGN</td>\n",
       "      <td>20101115</td>\n",
       "      <td>108</td>\n",
       "      <td>2.06875</td>\n",
       "      <td>1.494757</td>\n",
       "      <td>0</td>\n",
       "      <td>15</td>\n",
       "      <td>319</td>\n",
       "      <td>0</td>\n",
       "      <td>1</td>\n",
       "      <td>46</td>\n",
       "      <td>3</td>\n",
       "      <td>11</td>\n",
       "      <td>4</td>\n",
       "      <td>30</td>\n",
       "      <td>9</td>\n",
       "      <td>5.352941</td>\n",
       "      <td>-0.014881</td>\n",
       "    </tr>\n",
       "  </tbody>\n",
       "</table>\n",
       "</div>"
      ],
      "text/plain": [
       "       StockCode                    Category  \\\n",
       "116853     22357          Food and Beverages   \n",
       "79540      21931             Home and Garden   \n",
       "137777     22566    Clothing and Accessories   \n",
       "113224     22326          Kitchen and Dining   \n",
       "116470     22355    Clothing and Accessories   \n",
       "21426      21001    Clothing and Accessories   \n",
       "174611    72807B           Health and Beauty   \n",
       "12266      20734  Tools and Home Improvement   \n",
       "24289      21077          Kitchen and Dining   \n",
       "31565      21181             Home and Garden   \n",
       "\n",
       "                               Description  yyyymmdd  Quantity    Price  \\\n",
       "116853            KINGS CHOICE BISCUIT TIN  20100413         7  4.25000   \n",
       "79540               JUMBO STORAGE BAG SUKI  20100506        34  1.95000   \n",
       "137777  FELTCRAFT HAIRBAND S/2 PINK/PURPLE  20100912         2  0.85000   \n",
       "113224     ROUND SNACK BOXES SET4 WOODLAND  20100817         6  2.95000   \n",
       "116470            CHARLOTTE BAGSUKI DESIGN  20100910        36  0.85000   \n",
       "21426                  ROSE DU SUD WASHBAG  20100228         1  5.95000   \n",
       "174611  SET/3 OCEAN SCENT CANDLE JEWEL BOX  20100128         4  4.25000   \n",
       "12266             SILVER MINI TAPE MEASURE  20100913       250  0.72000   \n",
       "24289        SET/20 WOODLAND PAPER NAPKINS  20100421       120  0.74500   \n",
       "31565          PLEASE ONE PERSONMETAL SIGN  20101115       108  2.06875   \n",
       "\n",
       "        Cost_price  dayofweek  dayofmonth  dayofyear  is_weekend  \\\n",
       "116853    3.129313          1          13        103           0   \n",
       "79540     1.593603          3           6        126           0   \n",
       "137777    0.776379          6          12        255           1   \n",
       "113224    2.100246          1          17        229           0   \n",
       "116470    0.634109          4          10        253           0   \n",
       "21426     3.801171          6          28         59           1   \n",
       "174611    4.161204          3          28         28           0   \n",
       "12266     0.419397          0          13        256           0   \n",
       "24289     0.614004          2          21        111           0   \n",
       "31565     1.494757          0          15        319           0   \n",
       "\n",
       "        weekday_weekend  weekofyear  weekofmonth  month  quarter  \\\n",
       "116853                1          15            2      4        2   \n",
       "79540                 1          18            1      5        2   \n",
       "137777                0          36            2      9        3   \n",
       "113224                1          33            3      8        3   \n",
       "116470                1          36            2      9        3   \n",
       "21426                 0           8            4      2        1   \n",
       "174611                1           4            4      1        1   \n",
       "12266                 1          37            2      9        3   \n",
       "24289                 1          16            3      4        2   \n",
       "31565                 1          46            3     11        4   \n",
       "\n",
       "        days_in_month  year  change_qty  change_price  \n",
       "116853             30     9   -0.766667      0.049383  \n",
       "79540              31     9   -0.701754      0.040000  \n",
       "137777             30     9   -0.833333      0.000000  \n",
       "113224             31     9    0.000000      0.000000  \n",
       "116470             30     9   -0.076923      0.000000  \n",
       "21426              28     9    0.000000      0.000000  \n",
       "174611             31     9    0.333333      0.000000  \n",
       "12266              30     9  249.000000     -0.152941  \n",
       "24289              30     9    9.000000     -0.123529  \n",
       "31565              30     9    5.352941     -0.014881  "
      ]
     },
     "execution_count": 22,
     "metadata": {},
     "output_type": "execute_result"
    }
   ],
   "source": [
    "df.sample(10)"
   ]
  },
  {
   "cell_type": "markdown",
   "metadata": {},
   "source": [
    "store dataframe for optimize"
   ]
  },
  {
   "cell_type": "code",
   "execution_count": 23,
   "metadata": {},
   "outputs": [],
   "source": [
    "df.sort_values(by=['Category','Description', 'yyyymmdd'], ascending=[True,True, False], inplace=True)"
   ]
  },
  {
   "cell_type": "code",
   "execution_count": 24,
   "metadata": {},
   "outputs": [],
   "source": [
    "df['row_number'] = df.groupby('Description').cumcount() + 1"
   ]
  },
  {
   "cell_type": "code",
   "execution_count": 25,
   "metadata": {},
   "outputs": [],
   "source": [
    "df_lastest = df[df['row_number'] == 1].reset_index(drop=True)"
   ]
  },
  {
   "cell_type": "code",
   "execution_count": 26,
   "metadata": {
    "tags": []
   },
   "outputs": [
    {
     "data": {
      "text/plain": [
       "(3888, 21)"
      ]
     },
     "execution_count": 26,
     "metadata": {},
     "output_type": "execute_result"
    }
   ],
   "source": [
    "df_lastest.shape"
   ]
  },
  {
   "cell_type": "code",
   "execution_count": 27,
   "metadata": {},
   "outputs": [
    {
     "data": {
      "text/html": [
       "<div>\n",
       "<style scoped>\n",
       "    .dataframe tbody tr th:only-of-type {\n",
       "        vertical-align: middle;\n",
       "    }\n",
       "\n",
       "    .dataframe tbody tr th {\n",
       "        vertical-align: top;\n",
       "    }\n",
       "\n",
       "    .dataframe thead th {\n",
       "        text-align: right;\n",
       "    }\n",
       "</style>\n",
       "<table border=\"1\" class=\"dataframe\">\n",
       "  <thead>\n",
       "    <tr style=\"text-align: right;\">\n",
       "      <th></th>\n",
       "      <th>StockCode</th>\n",
       "      <th>Category</th>\n",
       "      <th>Description</th>\n",
       "      <th>yyyymmdd</th>\n",
       "      <th>Quantity</th>\n",
       "      <th>Price</th>\n",
       "      <th>Cost_price</th>\n",
       "      <th>dayofweek</th>\n",
       "      <th>dayofmonth</th>\n",
       "      <th>dayofyear</th>\n",
       "      <th>...</th>\n",
       "      <th>weekday_weekend</th>\n",
       "      <th>weekofyear</th>\n",
       "      <th>weekofmonth</th>\n",
       "      <th>month</th>\n",
       "      <th>quarter</th>\n",
       "      <th>days_in_month</th>\n",
       "      <th>year</th>\n",
       "      <th>change_qty</th>\n",
       "      <th>change_price</th>\n",
       "      <th>row_number</th>\n",
       "    </tr>\n",
       "  </thead>\n",
       "  <tbody>\n",
       "    <tr>\n",
       "      <th>0</th>\n",
       "      <td>22282</td>\n",
       "      <td>Arts and Crafts</td>\n",
       "      <td>12 EGG HOUSE PAINTED WOOD</td>\n",
       "      <td>20101129</td>\n",
       "      <td>2</td>\n",
       "      <td>12.75</td>\n",
       "      <td>6.978710</td>\n",
       "      <td>0</td>\n",
       "      <td>29</td>\n",
       "      <td>333</td>\n",
       "      <td>...</td>\n",
       "      <td>1</td>\n",
       "      <td>48</td>\n",
       "      <td>5</td>\n",
       "      <td>11</td>\n",
       "      <td>4</td>\n",
       "      <td>30</td>\n",
       "      <td>9</td>\n",
       "      <td>-0.875000</td>\n",
       "      <td>0.164384</td>\n",
       "      <td>1</td>\n",
       "    </tr>\n",
       "    <tr>\n",
       "      <th>1</th>\n",
       "      <td>21447</td>\n",
       "      <td>Arts and Crafts</td>\n",
       "      <td>12 IVORY ROSE PEG PLACE SETTINGS</td>\n",
       "      <td>20101206</td>\n",
       "      <td>12</td>\n",
       "      <td>1.25</td>\n",
       "      <td>1.214665</td>\n",
       "      <td>0</td>\n",
       "      <td>6</td>\n",
       "      <td>340</td>\n",
       "      <td>...</td>\n",
       "      <td>1</td>\n",
       "      <td>49</td>\n",
       "      <td>1</td>\n",
       "      <td>12</td>\n",
       "      <td>4</td>\n",
       "      <td>31</td>\n",
       "      <td>9</td>\n",
       "      <td>0.714286</td>\n",
       "      <td>0.000000</td>\n",
       "      <td>1</td>\n",
       "    </tr>\n",
       "    <tr>\n",
       "      <th>2</th>\n",
       "      <td>21440</td>\n",
       "      <td>Arts and Crafts</td>\n",
       "      <td>12 MINI TOADSTOOL PEGS</td>\n",
       "      <td>20100701</td>\n",
       "      <td>13</td>\n",
       "      <td>1.25</td>\n",
       "      <td>0.974084</td>\n",
       "      <td>3</td>\n",
       "      <td>1</td>\n",
       "      <td>182</td>\n",
       "      <td>...</td>\n",
       "      <td>1</td>\n",
       "      <td>26</td>\n",
       "      <td>1</td>\n",
       "      <td>7</td>\n",
       "      <td>3</td>\n",
       "      <td>31</td>\n",
       "      <td>9</td>\n",
       "      <td>1.600000</td>\n",
       "      <td>0.000000</td>\n",
       "      <td>1</td>\n",
       "    </tr>\n",
       "    <tr>\n",
       "      <th>3</th>\n",
       "      <td>20976</td>\n",
       "      <td>Arts and Crafts</td>\n",
       "      <td>12 PENCILS SMALL TUBE POSY</td>\n",
       "      <td>20100813</td>\n",
       "      <td>8</td>\n",
       "      <td>0.65</td>\n",
       "      <td>0.607085</td>\n",
       "      <td>4</td>\n",
       "      <td>13</td>\n",
       "      <td>225</td>\n",
       "      <td>...</td>\n",
       "      <td>1</td>\n",
       "      <td>32</td>\n",
       "      <td>2</td>\n",
       "      <td>8</td>\n",
       "      <td>3</td>\n",
       "      <td>31</td>\n",
       "      <td>9</td>\n",
       "      <td>7.000000</td>\n",
       "      <td>0.000000</td>\n",
       "      <td>1</td>\n",
       "    </tr>\n",
       "    <tr>\n",
       "      <th>4</th>\n",
       "      <td>20974</td>\n",
       "      <td>Arts and Crafts</td>\n",
       "      <td>12 PENCILS SMALL TUBE SKULL</td>\n",
       "      <td>20101209</td>\n",
       "      <td>48</td>\n",
       "      <td>0.65</td>\n",
       "      <td>0.489724</td>\n",
       "      <td>3</td>\n",
       "      <td>9</td>\n",
       "      <td>343</td>\n",
       "      <td>...</td>\n",
       "      <td>1</td>\n",
       "      <td>49</td>\n",
       "      <td>2</td>\n",
       "      <td>12</td>\n",
       "      <td>4</td>\n",
       "      <td>31</td>\n",
       "      <td>9</td>\n",
       "      <td>1.086957</td>\n",
       "      <td>0.000000</td>\n",
       "      <td>1</td>\n",
       "    </tr>\n",
       "  </tbody>\n",
       "</table>\n",
       "<p>5 rows × 21 columns</p>\n",
       "</div>"
      ],
      "text/plain": [
       "  StockCode         Category                       Description  yyyymmdd  \\\n",
       "0     22282  Arts and Crafts         12 EGG HOUSE PAINTED WOOD  20101129   \n",
       "1     21447  Arts and Crafts  12 IVORY ROSE PEG PLACE SETTINGS  20101206   \n",
       "2     21440  Arts and Crafts            12 MINI TOADSTOOL PEGS  20100701   \n",
       "3     20976  Arts and Crafts        12 PENCILS SMALL TUBE POSY  20100813   \n",
       "4     20974  Arts and Crafts       12 PENCILS SMALL TUBE SKULL  20101209   \n",
       "\n",
       "   Quantity  Price  Cost_price  dayofweek  dayofmonth  dayofyear  ...  \\\n",
       "0         2  12.75    6.978710          0          29        333  ...   \n",
       "1        12   1.25    1.214665          0           6        340  ...   \n",
       "2        13   1.25    0.974084          3           1        182  ...   \n",
       "3         8   0.65    0.607085          4          13        225  ...   \n",
       "4        48   0.65    0.489724          3           9        343  ...   \n",
       "\n",
       "   weekday_weekend  weekofyear  weekofmonth  month  quarter  days_in_month  \\\n",
       "0                1          48            5     11        4             30   \n",
       "1                1          49            1     12        4             31   \n",
       "2                1          26            1      7        3             31   \n",
       "3                1          32            2      8        3             31   \n",
       "4                1          49            2     12        4             31   \n",
       "\n",
       "   year  change_qty  change_price  row_number  \n",
       "0     9   -0.875000      0.164384           1  \n",
       "1     9    0.714286      0.000000           1  \n",
       "2     9    1.600000      0.000000           1  \n",
       "3     9    7.000000      0.000000           1  \n",
       "4     9    1.086957      0.000000           1  \n",
       "\n",
       "[5 rows x 21 columns]"
      ]
     },
     "execution_count": 27,
     "metadata": {},
     "output_type": "execute_result"
    }
   ],
   "source": [
    "df_lastest.head()"
   ]
  },
  {
   "cell_type": "code",
   "execution_count": 28,
   "metadata": {},
   "outputs": [
    {
     "data": {
      "text/plain": [
       "Index(['StockCode', 'Category', 'Description', 'yyyymmdd', 'Quantity', 'Price',\n",
       "       'Cost_price', 'dayofweek', 'dayofmonth', 'dayofyear', 'is_weekend',\n",
       "       'weekday_weekend', 'weekofyear', 'weekofmonth', 'month', 'quarter',\n",
       "       'days_in_month', 'year', 'change_qty', 'change_price', 'row_number'],\n",
       "      dtype='object')"
      ]
     },
     "execution_count": 28,
     "metadata": {},
     "output_type": "execute_result"
    }
   ],
   "source": [
    "df.columns"
   ]
  },
  {
   "cell_type": "markdown",
   "metadata": {},
   "source": [
    "EDA"
   ]
  },
  {
   "cell_type": "code",
   "execution_count": 46,
   "metadata": {},
   "outputs": [
    {
     "data": {
      "text/plain": [
       "┌────────────────────────────┬──────────────┬─────────────────────┬─────────────────┬─────────────────────┬────────────────────┐\n",
       "│          Category          │ count_star() │   min(change_qty)   │ max(change_qty) │  min(change_price)  │ max(change_price)  │\n",
       "│          varchar           │    int64     │       double        │     double      │       double        │       double       │\n",
       "├────────────────────────────┼──────────────┼─────────────────────┼─────────────────┼─────────────────────┼────────────────────┤\n",
       "│ Office Supplies            │          604 │ -0.9976851851851852 │           287.0 │             -0.8656 │   9.92436974789916 │\n",
       "│ Tools and Home Improvement │         1864 │              -0.999 │           499.0 │ -0.9333333333333333 │                5.5 │\n",
       "│ Food and Beverages         │         4101 │ -0.9992857142857143 │           209.5 │ -0.8584905660377359 │ 10.052631578947368 │\n",
       "│ Kitchen and Dining         │        42844 │  -0.999857305936073 │          3191.0 │             -0.9948 │  98.49999999999999 │\n",
       "│ Arts and Crafts            │        33997 │ -0.9995098039215686 │          6695.0 │ -0.9971186440677966 │ 14.576271186440678 │\n",
       "│ Electronics                │          935 │             -0.9975 │            99.0 │ -0.6722689075630253 │                6.0 │\n",
       "│ Books and Stationery       │        10418 │  -0.999810606060606 │          6143.0 │ -0.9994729542302357 │ 13039.380952380952 │\n",
       "│ Toys and Games             │        19210 │ -0.9997459349593496 │          1349.0 │ -0.9735849056603774 │             2949.0 │\n",
       "│ Pet                        │          693 │ -0.9993055555555556 │           110.0 │             -0.6875 │ 11.090909090909092 │\n",
       "│ Automotive                 │          468 │ -0.9897959183673469 │            64.0 │ -0.7796610169491526 │ 0.4970059880239521 │\n",
       "│ Crafts and Hobbies         │         5076 │ -0.9990942028985508 │           323.0 │ -0.9294117647058824 │ 18.941176470588236 │\n",
       "│ Clothing and Accessories   │        26149 │ -0.9988888888888889 │           799.0 │ -0.9559322033898305 │ 21.692307692307693 │\n",
       "│ Home and Garden            │        63255 │ -0.9998000799680128 │          2503.0 │ -0.9999333333333333 │ 119.51724137931036 │\n",
       "│ Sports and Outdoors        │         1003 │ -0.9861111111111112 │            99.5 │ -0.9905511811023622 │                4.0 │\n",
       "│ Health and Beauty          │         7258 │ -0.9998070987654321 │          2537.0 │ -0.9635220125786164 │ 10.266666666666667 │\n",
       "├────────────────────────────┴──────────────┴─────────────────────┴─────────────────┴─────────────────────┴────────────────────┤\n",
       "│ 15 rows                                                                                                            6 columns │\n",
       "└──────────────────────────────────────────────────────────────────────────────────────────────────────────────────────────────┘"
      ]
     },
     "execution_count": 46,
     "metadata": {},
     "output_type": "execute_result"
    }
   ],
   "source": [
    "duckdb.query(\"\"\"\n",
    "select Category, count(*), min(change_qty), max(change_qty)\n",
    ", min(change_price), max(change_price)\n",
    "from df\n",
    "group by Category\n",
    "\"\"\")"
   ]
  },
  {
   "cell_type": "code",
   "execution_count": null,
   "metadata": {},
   "outputs": [],
   "source": []
  },
  {
   "cell_type": "markdown",
   "metadata": {},
   "source": [
    "# 6. Model"
   ]
  },
  {
   "cell_type": "markdown",
   "metadata": {},
   "source": [
    "split df by category"
   ]
  },
  {
   "cell_type": "code",
   "execution_count": 30,
   "metadata": {
    "tags": []
   },
   "outputs": [
    {
     "data": {
      "text/plain": [
       "['Arts and Crafts',\n",
       " 'Automotive',\n",
       " 'Books and Stationery',\n",
       " 'Clothing and Accessories',\n",
       " 'Crafts and Hobbies',\n",
       " 'Electronics',\n",
       " 'Food and Beverages',\n",
       " 'Health and Beauty',\n",
       " 'Home and Garden',\n",
       " 'Kitchen and Dining',\n",
       " 'Office Supplies',\n",
       " 'Pet',\n",
       " 'Sports and Outdoors',\n",
       " 'Tools and Home Improvement',\n",
       " 'Toys and Games']"
      ]
     },
     "execution_count": 30,
     "metadata": {},
     "output_type": "execute_result"
    }
   ],
   "source": [
    "sorted(df['Category'].unique())"
   ]
  },
  {
   "cell_type": "code",
   "execution_count": 31,
   "metadata": {},
   "outputs": [],
   "source": [
    "df_art_crafts = df[df['Category'] == 'Arts and Crafts']\n",
    "df_automotive = df[df['Category'] == 'Automotive']\n",
    "df_book_stationary = df[df['Category'] == 'Books and Stationery']\n",
    "df_clothing_acc= df[df['Category'] == 'Clothing and Accessories']\n",
    "df_crafts_hobbies = df[df['Category'] == 'Crafts and Hobbies']\n",
    "df_electronics = df[df['Category'] == 'Electronics']\n",
    "df_food_beverages = df[df['Category'] == 'Food and Beverages']\n",
    "df_health_beauty = df[df['Category'] == 'Health and Beauty']\n",
    "df_home_garden = df[df['Category'] == 'Home and Garden']\n",
    "df_kitchen_dining = df[df['Category'] == 'Kitchen and Dining']\n",
    "df_office_supplies = df[df['Category'] == 'Office Supplies']\n",
    "df_pet = df[df['Category'] == 'Pet']\n",
    "df_sports_outdoors = df[df['Category'] == 'Sports and Outdoors']\n",
    "df_tools_home_improvement = df[df['Category'] == 'Tools and Home Improvement']\n",
    "df_toys_games = df[df['Category'] == 'Toys and Games']"
   ]
  },
  {
   "cell_type": "code",
   "execution_count": 32,
   "metadata": {},
   "outputs": [],
   "source": [
    "X_art_crafts = df_art_crafts.drop(columns=['StockCode','Category','Description','yyyymmdd','Quantity','Price','Cost_price','row_number','change_qty'])\n",
    "y_art_crafts = df_art_crafts['change_qty']\n",
    "\n",
    "X_automotive = df_automotive.drop(columns=['StockCode','Category','Description','yyyymmdd','Quantity','Price','Cost_price','row_number','change_qty'])\n",
    "y_automotive = df_automotive['change_qty']\n",
    "\n",
    "X_book_stationary = df_book_stationary.drop(columns=['StockCode','Category','Description','yyyymmdd','Quantity','Price','Cost_price','row_number','change_qty'])\n",
    "y_book_stationary = df_book_stationary['change_qty']\n",
    "\n",
    "X_clothing_acc = df_clothing_acc.drop(columns=['StockCode','Category','Description','yyyymmdd','Quantity','Price','Cost_price','row_number','change_qty'])\n",
    "y_clothing_acc = df_clothing_acc['change_qty']\n",
    "\n",
    "X_crafts_hobbies = df_crafts_hobbies.drop(columns=['StockCode','Category','Description','yyyymmdd','Quantity','Price','Cost_price','row_number','change_qty'])\n",
    "y_crafts_hobbies = df_crafts_hobbies['change_qty']\n",
    "\n",
    "X_electronics = df_electronics.drop(columns=['StockCode','Category','Description','yyyymmdd','Quantity','Price','Cost_price','row_number','change_qty'])\n",
    "y_electronics = df_electronics['change_qty']\n",
    "\n",
    "X_food_beverages = df_food_beverages.drop(columns=['StockCode','Category','Description','yyyymmdd','Quantity','Price','Cost_price','row_number','change_qty'])\n",
    "y_food_beverages = df_food_beverages['change_qty']\n",
    "\n",
    "X_health_beauty = df_health_beauty.drop(columns=['StockCode','Category','Description','yyyymmdd','Quantity','Price','Cost_price','row_number','change_qty'])\n",
    "y_health_beauty = df_health_beauty['change_qty']\n",
    "\n",
    "X_home_garden = df_home_garden.drop(columns=['StockCode','Category','Description','yyyymmdd','Quantity','Price','Cost_price','row_number','change_qty'])\n",
    "y_home_garden = df_home_garden['change_qty']\n",
    "\n",
    "X_kitchen_dining = df_kitchen_dining.drop(columns=['StockCode','Category','Description','yyyymmdd','Quantity','Price','Cost_price','row_number','change_qty'])\n",
    "y_kitchen_dining = df_kitchen_dining['change_qty']\n",
    "\n",
    "X_office_supplies = df_office_supplies.drop(columns=['StockCode','Category','Description','yyyymmdd','Quantity','Price','Cost_price','row_number','change_qty'])\n",
    "y_office_supplies = df_office_supplies['change_qty']\n",
    "\n",
    "X_pet = df_pet.drop(columns=['StockCode','Category','Description','yyyymmdd','Quantity','Price','Cost_price','row_number','change_qty'])\n",
    "y_pet = df_pet['change_qty']\n",
    "\n",
    "X_sports_outdoors = df_sports_outdoors.drop(columns=['StockCode','Category','Description','yyyymmdd','Quantity','Price','Cost_price','row_number','change_qty'])\n",
    "y_sports_outdoors = df_sports_outdoors['change_qty']\n",
    "\n",
    "X_tools_home_improvement = df_tools_home_improvement.drop(columns=['StockCode','Category','Description','yyyymmdd','Quantity','Price','Cost_price','row_number','change_qty'])\n",
    "y_tools_home_improvement = df_tools_home_improvement['change_qty']\n",
    "\n",
    "X_toys_games = df_toys_games.drop(columns=['StockCode','Category','Description','yyyymmdd','Quantity','Price','Cost_price','row_number','change_qty'])\n",
    "y_toys_games = df_toys_games['change_qty']"
   ]
  },
  {
   "cell_type": "code",
   "execution_count": 34,
   "metadata": {},
   "outputs": [
    {
     "ename": "SyntaxError",
     "evalue": "invalid syntax (402238255.py, line 1)",
     "output_type": "error",
     "traceback": [
      "\u001b[1;36m  Cell \u001b[1;32mIn[34], line 1\u001b[1;36m\u001b[0m\n\u001b[1;33m    **\u001b[0m\n\u001b[1;37m    ^\u001b[0m\n\u001b[1;31mSyntaxError\u001b[0m\u001b[1;31m:\u001b[0m invalid syntax\n"
     ]
    }
   ],
   "source": [
    "**"
   ]
  },
  {
   "cell_type": "markdown",
   "metadata": {},
   "source": [
    "train"
   ]
  },
  {
   "cell_type": "code",
   "execution_count": null,
   "metadata": {},
   "outputs": [],
   "source": [
    "rt = DecisionTreeRegressor(random_state=42)"
   ]
  },
  {
   "cell_type": "code",
   "execution_count": null,
   "metadata": {},
   "outputs": [],
   "source": [
    "param_grid = {\n",
    "    'max_depth': [3, 5, 10],\n",
    "    'min_samples_split': [5, 10, 15],\n",
    "    'min_samples_leaf': [3, 5, 10]\n",
    "}"
   ]
  },
  {
   "cell_type": "code",
   "execution_count": null,
   "metadata": {},
   "outputs": [],
   "source": [
    "grid_search = GridSearchCV(estimator=rt, param_grid=param_grid, cv=3, scoring='neg_root_mean_squared_error', n_jobs=-1)"
   ]
  },
  {
   "cell_type": "code",
   "execution_count": null,
   "metadata": {
    "scrolled": false
   },
   "outputs": [],
   "source": [
    "print(\"Training model for category: art_crafts\")\n",
    "grid_search.fit(X_art_crafts, y_art_crafts)\n",
    "best_model_art_crafts = grid_search.best_estimator_\n",
    "print(f\"Best parameters for art_crafts: {grid_search.best_params_}\")\n",
    "print(f\"Best score for art_crafts: {-grid_search.best_score_}\")\n",
    "\n",
    "print(\"Training model for category: automotive\")\n",
    "grid_search.fit(X_automotive, y_automotive)\n",
    "best_model_automotive = grid_search.best_estimator_\n",
    "print(f\"Best parameters for automotive: {grid_search.best_params_}\")\n",
    "print(f\"Best score for automotive: {-grid_search.best_score_}\")\n",
    "\n",
    "print(\"Training model for category: book_stationary\")\n",
    "grid_search.fit(X_book_stationary, y_book_stationary)\n",
    "best_model_book_stationary = grid_search.best_estimator_\n",
    "print(f\"Best parameters for book_stationary: {grid_search.best_params_}\")\n",
    "print(f\"Best score for book_stationary: {-grid_search.best_score_}\")\n",
    "\n",
    "print(\"Training model for category: clothing_acc\")\n",
    "grid_search.fit(X_clothing_acc, y_clothing_acc)\n",
    "best_model_clothing_acc = grid_search.best_estimator_\n",
    "print(f\"Best parameters for clothing_acc: {grid_search.best_params_}\")\n",
    "print(f\"Best score for clothing_acc: {-grid_search.best_score_}\")\n",
    "\n",
    "print(\"Training model for category: crafts_hobbies\")\n",
    "grid_search.fit(X_crafts_hobbies, y_crafts_hobbies)\n",
    "best_model_crafts_hobbies = grid_search.best_estimator_\n",
    "print(f\"Best parameters for crafts_hobbies: {grid_search.best_params_}\")\n",
    "print(f\"Best score for crafts_hobbies: {-grid_search.best_score_}\")\n",
    "\n",
    "print(\"Training model for category: electronics\")\n",
    "grid_search.fit(X_electronics, y_electronics)\n",
    "best_model_electronics = grid_search.best_estimator_\n",
    "print(f\"Best parameters for electronics: {grid_search.best_params_}\")\n",
    "print(f\"Best score for electronics: {-grid_search.best_score_}\")\n",
    "\n",
    "print(\"Training model for category: food_beverages\")\n",
    "grid_search.fit(X_food_beverages, y_food_beverages)\n",
    "best_model_food_beverages = grid_search.best_estimator_\n",
    "print(f\"Best parameters for food_beverages: {grid_search.best_params_}\")\n",
    "print(f\"Best score for food_beverages: {-grid_search.best_score_}\")\n",
    "\n",
    "print(\"Training model for category: health_beauty\")\n",
    "grid_search.fit(X_health_beauty, y_health_beauty)\n",
    "best_model_health_beauty = grid_search.best_estimator_\n",
    "print(f\"Best parameters for health_beauty: {grid_search.best_params_}\")\n",
    "print(f\"Best score for health_beauty: {-grid_search.best_score_}\")\n",
    "\n",
    "print(\"Training model for category: home_garden\")\n",
    "grid_search.fit(X_home_garden, y_home_garden)\n",
    "best_model_home_garden = grid_search.best_estimator_\n",
    "print(f\"Best parameters for home_garden: {grid_search.best_params_}\")\n",
    "print(f\"Best score for home_garden: {-grid_search.best_score_}\")\n",
    "\n",
    "print(\"Training model for category: kitchen_dining\")\n",
    "grid_search.fit(X_kitchen_dining, y_kitchen_dining)\n",
    "best_model_kitchen_dining = grid_search.best_estimator_\n",
    "print(f\"Best parameters for kitchen_dining: {grid_search.best_params_}\")\n",
    "print(f\"Best score for kitchen_dining: {-grid_search.best_score_}\")\n",
    "\n",
    "print(\"Training model for category: office_supplies\")\n",
    "grid_search.fit(X_office_supplies, y_office_supplies)\n",
    "best_model_office_supplies = grid_search.best_estimator_\n",
    "print(f\"Best parameters for office_supplies: {grid_search.best_params_}\")\n",
    "print(f\"Best score for office_supplies: {-grid_search.best_score_}\")\n",
    "\n",
    "print(\"Training model for category: pet\")\n",
    "grid_search.fit(X_pet, y_pet)\n",
    "best_model_pet = grid_search.best_estimator_\n",
    "print(f\"Best parameters for pet: {grid_search.best_params_}\")\n",
    "print(f\"Best score for pet: {-grid_search.best_score_}\")\n",
    "\n",
    "print(\"Training model for category: sports_outdoors\")\n",
    "grid_search.fit(X_sports_outdoors, y_sports_outdoors)\n",
    "best_model_sports_outdoors = grid_search.best_estimator_\n",
    "print(f\"Best parameters for sports_outdoors: {grid_search.best_params_}\")\n",
    "print(f\"Best score for sports_outdoors: {-grid_search.best_score_}\")\n",
    "\n",
    "print(\"Training model for category: tools_home_improvement\")\n",
    "grid_search.fit(X_tools_home_improvement, y_tools_home_improvement)\n",
    "best_model_tools_home_improvement = grid_search.best_estimator_\n",
    "print(f\"Best parameters for tools_home_improvement: {grid_search.best_params_}\")\n",
    "print(f\"Best score for tools_home_improvement: {-grid_search.best_score_}\")\n",
    "\n",
    "print(\"Training model for category: toys_games\")\n",
    "grid_search.fit(X_toys_games, y_toys_games)\n",
    "best_model_toys_games = grid_search.best_estimator_\n",
    "print(f\"Best parameters for toys_games: {grid_search.best_params_}\")\n",
    "print(f\"Best score for toys_games: {-grid_search.best_score_}\")"
   ]
  },
  {
   "cell_type": "code",
   "execution_count": null,
   "metadata": {},
   "outputs": [],
   "source": [
    "df_final = pd.DataFrame()"
   ]
  },
  {
   "cell_type": "markdown",
   "metadata": {},
   "source": [
    "# 7. Optimize"
   ]
  },
  {
   "cell_type": "code",
   "execution_count": null,
   "metadata": {},
   "outputs": [],
   "source": [
    "for index, row in df_lastest.iterrows():\n",
    "\n",
    "\n",
    "    cat_product = df_lastest[index:index+1]['Category'].values[0]\n",
    "    df_optimize = df_lastest[index:index+1][['dayofweek', 'dayofmonth', 'dayofyear', 'is_weekend',\n",
    "                                             'weekday_weekend', 'weekofyear', 'weekofmonth', 'month',\n",
    "                                             'quarter', 'days_in_month', 'year']]\n",
    "    \n",
    "    multipliers = [round(x * 0.01, 2) for x in range(-50,51)]\n",
    "    df_optimize = df_optimize.loc[np.repeat(df_optimize.index.values, len(multipliers))]\n",
    "    df_optimize['change_price'] = multipliers\n",
    "\n",
    "    change_price_list = []\n",
    "\n",
    "    for i in range(df_optimize.shape[0]):\n",
    "        if row['Category'] == 'Arts and Crafts':\n",
    "            demand_change = best_model_art_crafts.predict(df_optimize.iloc[i:i+1])[0]\n",
    "        elif row['Category'] == 'Automotive':\n",
    "            demand_change = best_model_automotive.predict(df_optimize.iloc[i:i+1])[0]\n",
    "        elif row['Category'] == 'Books and Stationery':\n",
    "            demand_change = best_model_book_stationary.predict(df_optimize.iloc[i:i+1])[0]\n",
    "        elif row['Category'] == 'Clothing and Accessories':\n",
    "            demand_change = best_model_clothing_acc.predict(df_optimize.iloc[i:i+1])[0]\n",
    "        elif row['Category'] == 'Crafts and Hobbies':\n",
    "            demand_change = best_model_crafts_hobbies.predict(df_optimize.iloc[i:i+1])[0]\n",
    "        elif row['Category'] == 'Electronics':\n",
    "            demand_change = best_model_electronics.predict(df_optimize.iloc[i:i+1])[0]\n",
    "        elif row['Category'] == 'Food and Beverages':\n",
    "            demand_change = best_model_food_beverages.predict(df_optimize.iloc[i:i+1])[0]\n",
    "        elif row['Category'] == 'Health and Beauty':\n",
    "            demand_change = best_model_health_beauty.predict(df_optimize.iloc[i:i+1])[0]\n",
    "        elif row['Category'] == 'Home and Garden':\n",
    "            demand_change = best_model_home_garden.predict(df_optimize.iloc[i:i+1])[0]\n",
    "        elif row['Category'] == 'Kitchen and Dining':\n",
    "            demand_change = best_model_kitchen_dining.predict(df_optimize.iloc[i:i+1])[0]\n",
    "        elif row['Category'] == 'Office Supplies':\n",
    "            demand_change = best_model_office_supplies.predict(df_optimize.iloc[i:i+1])[0]\n",
    "        elif row['Category'] == 'Pet':\n",
    "            demand_change = best_model_pet.predict(df_optimize.iloc[i:i+1])[0]\n",
    "        elif row['Category'] == 'Sports and Outdoors':\n",
    "            demand_change = best_model_sports_outdoors.predict(df_optimize.iloc[i:i+1])[0]\n",
    "        elif row['Category'] == 'Tools and Home Improvement':\n",
    "            demand_change = best_model_tools_home_improvement.predict(df_optimize.iloc[i:i+1])[0]\n",
    "        elif row['Category'] == 'Toys and Games':\n",
    "            demand_change = best_model_toys_games.predict(df_optimize.iloc[i:i+1])[0]\n",
    "        else:\n",
    "            demand_change = None\n",
    "\n",
    "        change_price_list.append(demand_change)\n",
    "\n",
    "    df_optimize['change_qty'] = change_price_list\n",
    "\n",
    "    initial_price = df_lastest[df_lastest['StockCode'] == row['StockCode']]['Price'].iloc[0]\n",
    "    initial_cost_price = df_lastest[df_lastest['StockCode'] == row['StockCode']]['Cost_price'].iloc[0]\n",
    "    initial_quantity = df_lastest[df_lastest['StockCode'] == row['StockCode']]['Quantity'].iloc[0]\n",
    "\n",
    "    df_optimize['price_new'] = initial_price * (1 + df_optimize['change_price'])\n",
    "    df_optimize['qty_new'] = initial_quantity * (1 + df_optimize['change_qty'])\n",
    "\n",
    "\n",
    "    df_optimize['additional_profit'] = df_optimize['qty_new'] * (df_optimize['price_new'] - initial_cost_price)\n",
    "    df_optimize = df_optimize[df_optimize['additional_profit'] == df_optimize['additional_profit'].max()]\n",
    "\n",
    "    df_final_append = df_lastest[index:index+1][['StockCode', 'Category', 'Description', 'yyyymmdd', 'Quantity', 'Price']]\n",
    "    df_final_append['change_price'] = df_optimize['change_price'].values[0]\n",
    "    df_final_append['change_qty'] = df_optimize['change_qty'].values[0]\n",
    "    df_final_append['price_new'] = df_optimize['price_new'].values[0]\n",
    "    df_final_append['qty_new'] = df_optimize['qty_new'].values[0]\n",
    "    df_final_append['additional_profit'] = df_optimize['additional_profit'].values[0]\n",
    "\n",
    "    df_final = pd.concat([df_final, df_final_append], ignore_index=True)"
   ]
  },
  {
   "cell_type": "code",
   "execution_count": null,
   "metadata": {},
   "outputs": [],
   "source": [
    "df_final.head()"
   ]
  },
  {
   "cell_type": "code",
   "execution_count": null,
   "metadata": {},
   "outputs": [],
   "source": [
    "rev_old = (df_final['Quantity']*df_final['Price']).sum()"
   ]
  },
  {
   "cell_type": "code",
   "execution_count": null,
   "metadata": {},
   "outputs": [],
   "source": [
    "rev_new = (df_final['qty_new']*df_final['price_new']).sum()"
   ]
  },
  {
   "cell_type": "code",
   "execution_count": null,
   "metadata": {},
   "outputs": [],
   "source": [
    "(rev_new-rev_old)/rev_old"
   ]
  }
 ],
 "metadata": {
  "kernelspec": {
   "display_name": "base",
   "language": "python",
   "name": "python3"
  },
  "language_info": {
   "codemirror_mode": {
    "name": "ipython",
    "version": 3
   },
   "file_extension": ".py",
   "mimetype": "text/x-python",
   "name": "python",
   "nbconvert_exporter": "python",
   "pygments_lexer": "ipython3",
   "version": "3.12.4"
  },
  "toc-autonumbering": false,
  "toc-showmarkdowntxt": true
 },
 "nbformat": 4,
 "nbformat_minor": 4
}
